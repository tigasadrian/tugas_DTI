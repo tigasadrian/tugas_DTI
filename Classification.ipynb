{
  "nbformat": 4,
  "nbformat_minor": 0,
  "metadata": {
    "colab": {
      "name": "Untitled3.ipynb",
      "provenance": [],
      "collapsed_sections": [
        "0cYw34V9LkSM",
        "WdUHdLulVmSC",
        "_op1lc-6WdOZ",
        "Cq5WY4QLY2o7",
        "aPajbQqzECiT",
        "_a0-8MCSJNZP",
        "zmUqcGtPezQk",
        "NjGVV-Z8fR9O",
        "lT2SJhwQKIuD",
        "81d_S2UgKdIM",
        "WZBUl6mRKwqN",
        "UOTuJtxAKyvL",
        "sdb4pH1vK6Oy",
        "cjwBCJiMK7c2",
        "06n1kGehDmHr",
        "3sO3FhemEYry",
        "rwxC9G67EeiZ",
        "zDmvjgZ3HURR"
      ],
      "authorship_tag": "ABX9TyNScb7Y6AqICx/wRM7Qp3x/"
    },
    "kernelspec": {
      "name": "python3",
      "display_name": "Python 3"
    }
  },
  "cells": [
    {
      "cell_type": "markdown",
      "metadata": {
        "id": "Q7-o3qJy2JVs"
      },
      "source": [
        "## **CLASSIFICATION MODELS**\n",
        "\n",
        "Tigas Adrian Wahyuindrajati\n",
        "\n",
        "DS0127\n",
        "\n",
        "An assignment of Telkom Digital Incubator Program 2020"
      ]
    },
    {
      "cell_type": "markdown",
      "metadata": {
        "id": "Mf-oPkTWIb_z"
      },
      "source": [
        "## **Exploratory Data Analysis**\n",
        "### **Attribute Description**\n",
        "##### **Input Variables**\n",
        "###### A. Bank Client Data\n",
        "```\n",
        "1 - age: (numeric)\n",
        "\n",
        "2 - job: type of job (categorical: 'admin.','blue-collar','entrepreneur','housemaid','management','retired','self-employed','services','student','technician','unemployed','unknown')\n",
        "\n",
        "3 - marital: marital status (categorical: 'divorced','married','single','unknown'; note: 'divorced' means divorced or widowed)\n",
        "\n",
        "4 - education: (categorical: primary, secondary, tertiary and unknown)\n",
        "\n",
        "5 - default: has credit in default? (categorical: 'no','yes','unknown')\n",
        "\n",
        "6 - housing: has housing loan? (categorical: 'no','yes','unknown')\n",
        "\n",
        "7 - loan: has personal loan? (categorical: 'no','yes','unknown')\n",
        "\n",
        "8 - balance: Balance of the individual.\n",
        "```\n",
        "###### B. Related with the Last Contact of the Current Campaign\n",
        "\n",
        "```\n",
        "9 - contact: contact communication type (categorical: 'cellular','telephone')\n",
        "\n",
        "10 - month: last contact month of year (categorical: 'jan', 'feb', 'mar', ..., 'nov', 'dec')\n",
        "\n",
        "11 - day: last contact day of the week (categorical: 'mon','tue','wed','thu','fri')\n",
        "\n",
        "12 - duration: last contact duration, in seconds (numeric). Important note: this attribute highly affects the output target (e.g., if duration=0 then y='no'). Yet, the duration is not known before a call is performed. Also, after the end of the call y is obviously known. Thus, this input should only be included for benchmark purposes and should be discarded if the intention is to have a realistic predictive model.\n",
        "\n",
        "```\n",
        "\n",
        "###### C. Other Attributes\n",
        "```\n",
        "13 - campaign: number of contacts performed during this campaign and for this client (numeric, includes last contact)\n",
        "\n",
        "14 - pdays: number of days that passed by after the client was last contacted from a previous campaign (numeric; 999 means client was not previously contacted)\n",
        "\n",
        "15 - previous: number of contacts performed before this campaign and for this client (numeric)\n",
        "\n",
        "16 - poutcome: outcome of the previous marketing campaign (categorical: 'failure','nonexistent','success')\n",
        "```\n",
        "##### **Output Variables (Class) / Desired Target**\n",
        "```\n",
        "17 - y (deposit) - has the client subscribed a term deposit? (binary: 'yes','no')\n",
        "```"
      ]
    },
    {
      "cell_type": "markdown",
      "metadata": {
        "id": "0cYw34V9LkSM"
      },
      "source": [
        "## **Dataset Information and Description:**\n",
        "#### **Dataset Information**\n",
        "*   Consist of 11,162 entries\n",
        "*   Consist of 7 \"numerical\" attributes and 9 \"categorical\" attributes\n",
        "\n",
        "*Note: The **duration** variable will be dropped*"
      ]
    },
    {
      "cell_type": "code",
      "metadata": {
        "id": "ASUZedPLA81x"
      },
      "source": [
        "# import libraries\n",
        "import pandas as pd\n",
        "import numpy as np\n",
        "import matplotlib.pyplot as plt\n",
        "\n",
        "from sklearn.preprocessing import StandardScaler\n",
        "from sklearn.preprocessing import LabelEncoder\n",
        "\n",
        "from sklearn.pipeline import make_pipeline\n",
        "from sklearn.model_selection import StratifiedShuffleSplit, StratifiedKFold\n",
        "from sklearn.model_selection import train_test_split, cross_val_score\n",
        "from sklearn.model_selection import GridSearchCV\n",
        "\n",
        "import xgboost as xgb\n",
        "from sklearn.neighbors import KNeighborsClassifier\n",
        "from sklearn.ensemble import GradientBoostingClassifier\n",
        "from sklearn.naive_bayes import GaussianNB\n",
        "\n",
        "from sklearn import metrics\n",
        "\n"
      ],
      "execution_count": 122,
      "outputs": []
    },
    {
      "cell_type": "code",
      "metadata": {
        "id": "sVHXIGlIBBcD",
        "outputId": "2b109b82-8848-4179-d14c-9a1f252d0b52",
        "colab": {
          "base_uri": "https://localhost:8080/",
          "height": 200
        }
      },
      "source": [
        "# import data to colab\n",
        "df_deposit = pd.read_csv('https://raw.githubusercontent.com/tigasadrian/tugas_DTI/master/data/bank.csv', sep= ',')\n",
        "df_deposit\n",
        "\n",
        "# have a grasp of the data\n",
        "df_deposit.head()"
      ],
      "execution_count": 123,
      "outputs": [
        {
          "output_type": "execute_result",
          "data": {
            "text/html": [
              "<div>\n",
              "<style scoped>\n",
              "    .dataframe tbody tr th:only-of-type {\n",
              "        vertical-align: middle;\n",
              "    }\n",
              "\n",
              "    .dataframe tbody tr th {\n",
              "        vertical-align: top;\n",
              "    }\n",
              "\n",
              "    .dataframe thead th {\n",
              "        text-align: right;\n",
              "    }\n",
              "</style>\n",
              "<table border=\"1\" class=\"dataframe\">\n",
              "  <thead>\n",
              "    <tr style=\"text-align: right;\">\n",
              "      <th></th>\n",
              "      <th>age</th>\n",
              "      <th>job</th>\n",
              "      <th>marital</th>\n",
              "      <th>education</th>\n",
              "      <th>default</th>\n",
              "      <th>balance</th>\n",
              "      <th>housing</th>\n",
              "      <th>loan</th>\n",
              "      <th>contact</th>\n",
              "      <th>day</th>\n",
              "      <th>month</th>\n",
              "      <th>duration</th>\n",
              "      <th>campaign</th>\n",
              "      <th>pdays</th>\n",
              "      <th>previous</th>\n",
              "      <th>poutcome</th>\n",
              "      <th>deposit</th>\n",
              "    </tr>\n",
              "  </thead>\n",
              "  <tbody>\n",
              "    <tr>\n",
              "      <th>0</th>\n",
              "      <td>59</td>\n",
              "      <td>admin.</td>\n",
              "      <td>married</td>\n",
              "      <td>secondary</td>\n",
              "      <td>no</td>\n",
              "      <td>2343</td>\n",
              "      <td>yes</td>\n",
              "      <td>no</td>\n",
              "      <td>unknown</td>\n",
              "      <td>5</td>\n",
              "      <td>may</td>\n",
              "      <td>1042</td>\n",
              "      <td>1</td>\n",
              "      <td>-1</td>\n",
              "      <td>0</td>\n",
              "      <td>unknown</td>\n",
              "      <td>yes</td>\n",
              "    </tr>\n",
              "    <tr>\n",
              "      <th>1</th>\n",
              "      <td>56</td>\n",
              "      <td>admin.</td>\n",
              "      <td>married</td>\n",
              "      <td>secondary</td>\n",
              "      <td>no</td>\n",
              "      <td>45</td>\n",
              "      <td>no</td>\n",
              "      <td>no</td>\n",
              "      <td>unknown</td>\n",
              "      <td>5</td>\n",
              "      <td>may</td>\n",
              "      <td>1467</td>\n",
              "      <td>1</td>\n",
              "      <td>-1</td>\n",
              "      <td>0</td>\n",
              "      <td>unknown</td>\n",
              "      <td>yes</td>\n",
              "    </tr>\n",
              "    <tr>\n",
              "      <th>2</th>\n",
              "      <td>41</td>\n",
              "      <td>technician</td>\n",
              "      <td>married</td>\n",
              "      <td>secondary</td>\n",
              "      <td>no</td>\n",
              "      <td>1270</td>\n",
              "      <td>yes</td>\n",
              "      <td>no</td>\n",
              "      <td>unknown</td>\n",
              "      <td>5</td>\n",
              "      <td>may</td>\n",
              "      <td>1389</td>\n",
              "      <td>1</td>\n",
              "      <td>-1</td>\n",
              "      <td>0</td>\n",
              "      <td>unknown</td>\n",
              "      <td>yes</td>\n",
              "    </tr>\n",
              "    <tr>\n",
              "      <th>3</th>\n",
              "      <td>55</td>\n",
              "      <td>services</td>\n",
              "      <td>married</td>\n",
              "      <td>secondary</td>\n",
              "      <td>no</td>\n",
              "      <td>2476</td>\n",
              "      <td>yes</td>\n",
              "      <td>no</td>\n",
              "      <td>unknown</td>\n",
              "      <td>5</td>\n",
              "      <td>may</td>\n",
              "      <td>579</td>\n",
              "      <td>1</td>\n",
              "      <td>-1</td>\n",
              "      <td>0</td>\n",
              "      <td>unknown</td>\n",
              "      <td>yes</td>\n",
              "    </tr>\n",
              "    <tr>\n",
              "      <th>4</th>\n",
              "      <td>54</td>\n",
              "      <td>admin.</td>\n",
              "      <td>married</td>\n",
              "      <td>tertiary</td>\n",
              "      <td>no</td>\n",
              "      <td>184</td>\n",
              "      <td>no</td>\n",
              "      <td>no</td>\n",
              "      <td>unknown</td>\n",
              "      <td>5</td>\n",
              "      <td>may</td>\n",
              "      <td>673</td>\n",
              "      <td>2</td>\n",
              "      <td>-1</td>\n",
              "      <td>0</td>\n",
              "      <td>unknown</td>\n",
              "      <td>yes</td>\n",
              "    </tr>\n",
              "  </tbody>\n",
              "</table>\n",
              "</div>"
            ],
            "text/plain": [
              "   age         job  marital  education  ... pdays  previous poutcome deposit\n",
              "0   59      admin.  married  secondary  ...    -1         0  unknown     yes\n",
              "1   56      admin.  married  secondary  ...    -1         0  unknown     yes\n",
              "2   41  technician  married  secondary  ...    -1         0  unknown     yes\n",
              "3   55    services  married  secondary  ...    -1         0  unknown     yes\n",
              "4   54      admin.  married   tertiary  ...    -1         0  unknown     yes\n",
              "\n",
              "[5 rows x 17 columns]"
            ]
          },
          "metadata": {
            "tags": []
          },
          "execution_count": 123
        }
      ]
    },
    {
      "cell_type": "code",
      "metadata": {
        "id": "QloQil3NDTdM",
        "outputId": "330748f3-3219-4e7a-bfcd-27dcc0214b9b",
        "colab": {
          "base_uri": "https://localhost:8080/",
          "height": 444
        }
      },
      "source": [
        "# show the dataset information\n",
        "df_deposit.info()"
      ],
      "execution_count": 124,
      "outputs": [
        {
          "output_type": "stream",
          "text": [
            "<class 'pandas.core.frame.DataFrame'>\n",
            "RangeIndex: 11162 entries, 0 to 11161\n",
            "Data columns (total 17 columns):\n",
            " #   Column     Non-Null Count  Dtype \n",
            "---  ------     --------------  ----- \n",
            " 0   age        11162 non-null  int64 \n",
            " 1   job        11162 non-null  object\n",
            " 2   marital    11162 non-null  object\n",
            " 3   education  11162 non-null  object\n",
            " 4   default    11162 non-null  object\n",
            " 5   balance    11162 non-null  int64 \n",
            " 6   housing    11162 non-null  object\n",
            " 7   loan       11162 non-null  object\n",
            " 8   contact    11162 non-null  object\n",
            " 9   day        11162 non-null  int64 \n",
            " 10  month      11162 non-null  object\n",
            " 11  duration   11162 non-null  int64 \n",
            " 12  campaign   11162 non-null  int64 \n",
            " 13  pdays      11162 non-null  int64 \n",
            " 14  previous   11162 non-null  int64 \n",
            " 15  poutcome   11162 non-null  object\n",
            " 16  deposit    11162 non-null  object\n",
            "dtypes: int64(7), object(10)\n",
            "memory usage: 1.4+ MB\n"
          ],
          "name": "stdout"
        }
      ]
    },
    {
      "cell_type": "code",
      "metadata": {
        "id": "5QETGT_UcnX7",
        "outputId": "ed253c10-33e0-4d6e-f9f2-cc73c1e85f38",
        "colab": {
          "base_uri": "https://localhost:8080/",
          "height": 337
        }
      },
      "source": [
        "# check for missing value\n",
        "df_deposit.isnull().sum()"
      ],
      "execution_count": 125,
      "outputs": [
        {
          "output_type": "execute_result",
          "data": {
            "text/plain": [
              "age          0\n",
              "job          0\n",
              "marital      0\n",
              "education    0\n",
              "default      0\n",
              "balance      0\n",
              "housing      0\n",
              "loan         0\n",
              "contact      0\n",
              "day          0\n",
              "month        0\n",
              "duration     0\n",
              "campaign     0\n",
              "pdays        0\n",
              "previous     0\n",
              "poutcome     0\n",
              "deposit      0\n",
              "dtype: int64"
            ]
          },
          "metadata": {
            "tags": []
          },
          "execution_count": 125
        }
      ]
    },
    {
      "cell_type": "markdown",
      "metadata": {
        "id": "WdUHdLulVmSC"
      },
      "source": [
        "#### **Descriptive Statistics of the Numerical Attributes**\n",
        "*   Mean of **age** is approximately at 41 years old\n",
        "*   Mean of **balance** is 1,528 with 3,225 of standard deviation (std), it means the **balance** is heavily distributed across the dataset"
      ]
    },
    {
      "cell_type": "code",
      "metadata": {
        "id": "ph78NabpDpkJ",
        "outputId": "901bd670-7b34-4223-9ca3-00c62796204b",
        "colab": {
          "base_uri": "https://localhost:8080/",
          "height": 0
        }
      },
      "source": [
        "# show the descriptive statistics of the numerical attributes\n",
        "df_deposit.describe()"
      ],
      "execution_count": 126,
      "outputs": [
        {
          "output_type": "execute_result",
          "data": {
            "text/html": [
              "<div>\n",
              "<style scoped>\n",
              "    .dataframe tbody tr th:only-of-type {\n",
              "        vertical-align: middle;\n",
              "    }\n",
              "\n",
              "    .dataframe tbody tr th {\n",
              "        vertical-align: top;\n",
              "    }\n",
              "\n",
              "    .dataframe thead th {\n",
              "        text-align: right;\n",
              "    }\n",
              "</style>\n",
              "<table border=\"1\" class=\"dataframe\">\n",
              "  <thead>\n",
              "    <tr style=\"text-align: right;\">\n",
              "      <th></th>\n",
              "      <th>age</th>\n",
              "      <th>balance</th>\n",
              "      <th>day</th>\n",
              "      <th>duration</th>\n",
              "      <th>campaign</th>\n",
              "      <th>pdays</th>\n",
              "      <th>previous</th>\n",
              "    </tr>\n",
              "  </thead>\n",
              "  <tbody>\n",
              "    <tr>\n",
              "      <th>count</th>\n",
              "      <td>11162.000000</td>\n",
              "      <td>11162.000000</td>\n",
              "      <td>11162.000000</td>\n",
              "      <td>11162.000000</td>\n",
              "      <td>11162.000000</td>\n",
              "      <td>11162.000000</td>\n",
              "      <td>11162.000000</td>\n",
              "    </tr>\n",
              "    <tr>\n",
              "      <th>mean</th>\n",
              "      <td>41.231948</td>\n",
              "      <td>1528.538524</td>\n",
              "      <td>15.658036</td>\n",
              "      <td>371.993818</td>\n",
              "      <td>2.508421</td>\n",
              "      <td>51.330407</td>\n",
              "      <td>0.832557</td>\n",
              "    </tr>\n",
              "    <tr>\n",
              "      <th>std</th>\n",
              "      <td>11.913369</td>\n",
              "      <td>3225.413326</td>\n",
              "      <td>8.420740</td>\n",
              "      <td>347.128386</td>\n",
              "      <td>2.722077</td>\n",
              "      <td>108.758282</td>\n",
              "      <td>2.292007</td>\n",
              "    </tr>\n",
              "    <tr>\n",
              "      <th>min</th>\n",
              "      <td>18.000000</td>\n",
              "      <td>-6847.000000</td>\n",
              "      <td>1.000000</td>\n",
              "      <td>2.000000</td>\n",
              "      <td>1.000000</td>\n",
              "      <td>-1.000000</td>\n",
              "      <td>0.000000</td>\n",
              "    </tr>\n",
              "    <tr>\n",
              "      <th>25%</th>\n",
              "      <td>32.000000</td>\n",
              "      <td>122.000000</td>\n",
              "      <td>8.000000</td>\n",
              "      <td>138.000000</td>\n",
              "      <td>1.000000</td>\n",
              "      <td>-1.000000</td>\n",
              "      <td>0.000000</td>\n",
              "    </tr>\n",
              "    <tr>\n",
              "      <th>50%</th>\n",
              "      <td>39.000000</td>\n",
              "      <td>550.000000</td>\n",
              "      <td>15.000000</td>\n",
              "      <td>255.000000</td>\n",
              "      <td>2.000000</td>\n",
              "      <td>-1.000000</td>\n",
              "      <td>0.000000</td>\n",
              "    </tr>\n",
              "    <tr>\n",
              "      <th>75%</th>\n",
              "      <td>49.000000</td>\n",
              "      <td>1708.000000</td>\n",
              "      <td>22.000000</td>\n",
              "      <td>496.000000</td>\n",
              "      <td>3.000000</td>\n",
              "      <td>20.750000</td>\n",
              "      <td>1.000000</td>\n",
              "    </tr>\n",
              "    <tr>\n",
              "      <th>max</th>\n",
              "      <td>95.000000</td>\n",
              "      <td>81204.000000</td>\n",
              "      <td>31.000000</td>\n",
              "      <td>3881.000000</td>\n",
              "      <td>63.000000</td>\n",
              "      <td>854.000000</td>\n",
              "      <td>58.000000</td>\n",
              "    </tr>\n",
              "  </tbody>\n",
              "</table>\n",
              "</div>"
            ],
            "text/plain": [
              "                age       balance  ...         pdays      previous\n",
              "count  11162.000000  11162.000000  ...  11162.000000  11162.000000\n",
              "mean      41.231948   1528.538524  ...     51.330407      0.832557\n",
              "std       11.913369   3225.413326  ...    108.758282      2.292007\n",
              "min       18.000000  -6847.000000  ...     -1.000000      0.000000\n",
              "25%       32.000000    122.000000  ...     -1.000000      0.000000\n",
              "50%       39.000000    550.000000  ...     -1.000000      0.000000\n",
              "75%       49.000000   1708.000000  ...     20.750000      1.000000\n",
              "max       95.000000  81204.000000  ...    854.000000     58.000000\n",
              "\n",
              "[8 rows x 7 columns]"
            ]
          },
          "metadata": {
            "tags": []
          },
          "execution_count": 126
        }
      ]
    },
    {
      "cell_type": "code",
      "metadata": {
        "id": "0V7t25jrUkog",
        "outputId": "86afce67-baf2-49eb-e801-73869ac747a7",
        "colab": {
          "base_uri": "https://localhost:8080/",
          "height": 0
        }
      },
      "source": [
        "# show the types of the categorical attributes\n",
        "for col in df_deposit.select_dtypes(include='object').columns:\n",
        "  print(col)\n",
        "  print(df_deposit[col].unique())"
      ],
      "execution_count": 127,
      "outputs": [
        {
          "output_type": "stream",
          "text": [
            "job\n",
            "['admin.' 'technician' 'services' 'management' 'retired' 'blue-collar'\n",
            " 'unemployed' 'entrepreneur' 'housemaid' 'unknown' 'self-employed'\n",
            " 'student']\n",
            "marital\n",
            "['married' 'single' 'divorced']\n",
            "education\n",
            "['secondary' 'tertiary' 'primary' 'unknown']\n",
            "default\n",
            "['no' 'yes']\n",
            "housing\n",
            "['yes' 'no']\n",
            "loan\n",
            "['no' 'yes']\n",
            "contact\n",
            "['unknown' 'cellular' 'telephone']\n",
            "month\n",
            "['may' 'jun' 'jul' 'aug' 'oct' 'nov' 'dec' 'jan' 'feb' 'mar' 'apr' 'sep']\n",
            "poutcome\n",
            "['unknown' 'other' 'failure' 'success']\n",
            "deposit\n",
            "['yes' 'no']\n"
          ],
          "name": "stdout"
        }
      ]
    },
    {
      "cell_type": "code",
      "metadata": {
        "id": "dU8mcXl7WJ-N"
      },
      "source": [
        "# drop the duration variable\n",
        "df_deposit.drop(\"duration\", axis=1, inplace=True)"
      ],
      "execution_count": 128,
      "outputs": []
    },
    {
      "cell_type": "markdown",
      "metadata": {
        "id": "_op1lc-6WdOZ"
      },
      "source": [
        "#### **Checking Class Balance**\n",
        "\n",
        "\n",
        "*   Since the number of Class \"yes\" and \"no\" is well-balanced, the accuracy is not expected to be misleading\n",
        "\n"
      ]
    },
    {
      "cell_type": "code",
      "metadata": {
        "id": "_CDgtyUhWrr0",
        "outputId": "0da91aea-0070-4fb3-95e3-79cbd2b35eff",
        "colab": {
          "base_uri": "https://localhost:8080/",
          "height": 70
        }
      },
      "source": [
        "# checking class balance\n",
        "df_deposit.deposit.value_counts()/df_deposit.deposit.count()"
      ],
      "execution_count": 129,
      "outputs": [
        {
          "output_type": "execute_result",
          "data": {
            "text/plain": [
              "no     0.52616\n",
              "yes    0.47384\n",
              "Name: deposit, dtype: float64"
            ]
          },
          "metadata": {
            "tags": []
          },
          "execution_count": 129
        }
      ]
    },
    {
      "cell_type": "markdown",
      "metadata": {
        "id": "Cq5WY4QLY2o7"
      },
      "source": [
        "### **Partitioning into Training and Testing Dataset**\n",
        "\n",
        "*   Using StratifiedShuffleSplit for the partitioning\n",
        "*   The proportion of training and testing dataset is 70:30\n",
        "\n"
      ]
    },
    {
      "cell_type": "code",
      "metadata": {
        "id": "489aP2-6bFmB"
      },
      "source": [
        "# preserve class proportion using StratifiedShuffleSplit\n",
        "sss=StratifiedShuffleSplit(n_splits=1, test_size=0.3, random_state=1) # the proportion is 70:30\n",
        "for train_index, test_index in sss.split(df_deposit.drop(\"deposit\", axis=1), df_deposit.deposit):\n",
        "      traindf=df_deposit.loc[train_index]\n",
        "      testdf=df_deposit.loc[test_index]"
      ],
      "execution_count": 104,
      "outputs": []
    },
    {
      "cell_type": "markdown",
      "metadata": {
        "id": "aPajbQqzECiT"
      },
      "source": [
        "## **Data Preprocessing**"
      ]
    },
    {
      "cell_type": "markdown",
      "metadata": {
        "id": "_a0-8MCSJNZP"
      },
      "source": [
        "#### **Encode Categorical Variables**"
      ]
    },
    {
      "cell_type": "code",
      "metadata": {
        "id": "AvXwekFAGFEu",
        "outputId": "1a3f8acd-47a6-4104-813f-c5966c7340f0",
        "colab": {
          "base_uri": "https://localhost:8080/",
          "height": 448
        }
      },
      "source": [
        "# encoding target label\n",
        "LE=LabelEncoder()\n",
        "df_deposit['deposit']=LE.fit_transform(df_deposit.deposit.values)\n",
        "\n",
        "# encoding categorical features\n",
        "df_deposit=pd.get_dummies(df_deposit)\n",
        "\n",
        "df_deposit"
      ],
      "execution_count": 133,
      "outputs": [
        {
          "output_type": "execute_result",
          "data": {
            "text/html": [
              "<div>\n",
              "<style scoped>\n",
              "    .dataframe tbody tr th:only-of-type {\n",
              "        vertical-align: middle;\n",
              "    }\n",
              "\n",
              "    .dataframe tbody tr th {\n",
              "        vertical-align: top;\n",
              "    }\n",
              "\n",
              "    .dataframe thead th {\n",
              "        text-align: right;\n",
              "    }\n",
              "</style>\n",
              "<table border=\"1\" class=\"dataframe\">\n",
              "  <thead>\n",
              "    <tr style=\"text-align: right;\">\n",
              "      <th></th>\n",
              "      <th>age</th>\n",
              "      <th>balance</th>\n",
              "      <th>day</th>\n",
              "      <th>campaign</th>\n",
              "      <th>pdays</th>\n",
              "      <th>previous</th>\n",
              "      <th>deposit</th>\n",
              "      <th>job_admin.</th>\n",
              "      <th>job_blue-collar</th>\n",
              "      <th>job_entrepreneur</th>\n",
              "      <th>job_housemaid</th>\n",
              "      <th>job_management</th>\n",
              "      <th>job_retired</th>\n",
              "      <th>job_self-employed</th>\n",
              "      <th>job_services</th>\n",
              "      <th>job_student</th>\n",
              "      <th>job_technician</th>\n",
              "      <th>job_unemployed</th>\n",
              "      <th>job_unknown</th>\n",
              "      <th>marital_divorced</th>\n",
              "      <th>marital_married</th>\n",
              "      <th>marital_single</th>\n",
              "      <th>education_primary</th>\n",
              "      <th>education_secondary</th>\n",
              "      <th>education_tertiary</th>\n",
              "      <th>education_unknown</th>\n",
              "      <th>default_no</th>\n",
              "      <th>default_yes</th>\n",
              "      <th>housing_no</th>\n",
              "      <th>housing_yes</th>\n",
              "      <th>loan_no</th>\n",
              "      <th>loan_yes</th>\n",
              "      <th>contact_cellular</th>\n",
              "      <th>contact_telephone</th>\n",
              "      <th>contact_unknown</th>\n",
              "      <th>month_apr</th>\n",
              "      <th>month_aug</th>\n",
              "      <th>month_dec</th>\n",
              "      <th>month_feb</th>\n",
              "      <th>month_jan</th>\n",
              "      <th>month_jul</th>\n",
              "      <th>month_jun</th>\n",
              "      <th>month_mar</th>\n",
              "      <th>month_may</th>\n",
              "      <th>month_nov</th>\n",
              "      <th>month_oct</th>\n",
              "      <th>month_sep</th>\n",
              "      <th>poutcome_failure</th>\n",
              "      <th>poutcome_other</th>\n",
              "      <th>poutcome_success</th>\n",
              "      <th>poutcome_unknown</th>\n",
              "    </tr>\n",
              "  </thead>\n",
              "  <tbody>\n",
              "    <tr>\n",
              "      <th>0</th>\n",
              "      <td>59</td>\n",
              "      <td>2343</td>\n",
              "      <td>5</td>\n",
              "      <td>1</td>\n",
              "      <td>-1</td>\n",
              "      <td>0</td>\n",
              "      <td>1</td>\n",
              "      <td>1</td>\n",
              "      <td>0</td>\n",
              "      <td>0</td>\n",
              "      <td>0</td>\n",
              "      <td>0</td>\n",
              "      <td>0</td>\n",
              "      <td>0</td>\n",
              "      <td>0</td>\n",
              "      <td>0</td>\n",
              "      <td>0</td>\n",
              "      <td>0</td>\n",
              "      <td>0</td>\n",
              "      <td>0</td>\n",
              "      <td>1</td>\n",
              "      <td>0</td>\n",
              "      <td>0</td>\n",
              "      <td>1</td>\n",
              "      <td>0</td>\n",
              "      <td>0</td>\n",
              "      <td>1</td>\n",
              "      <td>0</td>\n",
              "      <td>0</td>\n",
              "      <td>1</td>\n",
              "      <td>1</td>\n",
              "      <td>0</td>\n",
              "      <td>0</td>\n",
              "      <td>0</td>\n",
              "      <td>1</td>\n",
              "      <td>0</td>\n",
              "      <td>0</td>\n",
              "      <td>0</td>\n",
              "      <td>0</td>\n",
              "      <td>0</td>\n",
              "      <td>0</td>\n",
              "      <td>0</td>\n",
              "      <td>0</td>\n",
              "      <td>1</td>\n",
              "      <td>0</td>\n",
              "      <td>0</td>\n",
              "      <td>0</td>\n",
              "      <td>0</td>\n",
              "      <td>0</td>\n",
              "      <td>0</td>\n",
              "      <td>1</td>\n",
              "    </tr>\n",
              "    <tr>\n",
              "      <th>1</th>\n",
              "      <td>56</td>\n",
              "      <td>45</td>\n",
              "      <td>5</td>\n",
              "      <td>1</td>\n",
              "      <td>-1</td>\n",
              "      <td>0</td>\n",
              "      <td>1</td>\n",
              "      <td>1</td>\n",
              "      <td>0</td>\n",
              "      <td>0</td>\n",
              "      <td>0</td>\n",
              "      <td>0</td>\n",
              "      <td>0</td>\n",
              "      <td>0</td>\n",
              "      <td>0</td>\n",
              "      <td>0</td>\n",
              "      <td>0</td>\n",
              "      <td>0</td>\n",
              "      <td>0</td>\n",
              "      <td>0</td>\n",
              "      <td>1</td>\n",
              "      <td>0</td>\n",
              "      <td>0</td>\n",
              "      <td>1</td>\n",
              "      <td>0</td>\n",
              "      <td>0</td>\n",
              "      <td>1</td>\n",
              "      <td>0</td>\n",
              "      <td>1</td>\n",
              "      <td>0</td>\n",
              "      <td>1</td>\n",
              "      <td>0</td>\n",
              "      <td>0</td>\n",
              "      <td>0</td>\n",
              "      <td>1</td>\n",
              "      <td>0</td>\n",
              "      <td>0</td>\n",
              "      <td>0</td>\n",
              "      <td>0</td>\n",
              "      <td>0</td>\n",
              "      <td>0</td>\n",
              "      <td>0</td>\n",
              "      <td>0</td>\n",
              "      <td>1</td>\n",
              "      <td>0</td>\n",
              "      <td>0</td>\n",
              "      <td>0</td>\n",
              "      <td>0</td>\n",
              "      <td>0</td>\n",
              "      <td>0</td>\n",
              "      <td>1</td>\n",
              "    </tr>\n",
              "    <tr>\n",
              "      <th>2</th>\n",
              "      <td>41</td>\n",
              "      <td>1270</td>\n",
              "      <td>5</td>\n",
              "      <td>1</td>\n",
              "      <td>-1</td>\n",
              "      <td>0</td>\n",
              "      <td>1</td>\n",
              "      <td>0</td>\n",
              "      <td>0</td>\n",
              "      <td>0</td>\n",
              "      <td>0</td>\n",
              "      <td>0</td>\n",
              "      <td>0</td>\n",
              "      <td>0</td>\n",
              "      <td>0</td>\n",
              "      <td>0</td>\n",
              "      <td>1</td>\n",
              "      <td>0</td>\n",
              "      <td>0</td>\n",
              "      <td>0</td>\n",
              "      <td>1</td>\n",
              "      <td>0</td>\n",
              "      <td>0</td>\n",
              "      <td>1</td>\n",
              "      <td>0</td>\n",
              "      <td>0</td>\n",
              "      <td>1</td>\n",
              "      <td>0</td>\n",
              "      <td>0</td>\n",
              "      <td>1</td>\n",
              "      <td>1</td>\n",
              "      <td>0</td>\n",
              "      <td>0</td>\n",
              "      <td>0</td>\n",
              "      <td>1</td>\n",
              "      <td>0</td>\n",
              "      <td>0</td>\n",
              "      <td>0</td>\n",
              "      <td>0</td>\n",
              "      <td>0</td>\n",
              "      <td>0</td>\n",
              "      <td>0</td>\n",
              "      <td>0</td>\n",
              "      <td>1</td>\n",
              "      <td>0</td>\n",
              "      <td>0</td>\n",
              "      <td>0</td>\n",
              "      <td>0</td>\n",
              "      <td>0</td>\n",
              "      <td>0</td>\n",
              "      <td>1</td>\n",
              "    </tr>\n",
              "    <tr>\n",
              "      <th>3</th>\n",
              "      <td>55</td>\n",
              "      <td>2476</td>\n",
              "      <td>5</td>\n",
              "      <td>1</td>\n",
              "      <td>-1</td>\n",
              "      <td>0</td>\n",
              "      <td>1</td>\n",
              "      <td>0</td>\n",
              "      <td>0</td>\n",
              "      <td>0</td>\n",
              "      <td>0</td>\n",
              "      <td>0</td>\n",
              "      <td>0</td>\n",
              "      <td>0</td>\n",
              "      <td>1</td>\n",
              "      <td>0</td>\n",
              "      <td>0</td>\n",
              "      <td>0</td>\n",
              "      <td>0</td>\n",
              "      <td>0</td>\n",
              "      <td>1</td>\n",
              "      <td>0</td>\n",
              "      <td>0</td>\n",
              "      <td>1</td>\n",
              "      <td>0</td>\n",
              "      <td>0</td>\n",
              "      <td>1</td>\n",
              "      <td>0</td>\n",
              "      <td>0</td>\n",
              "      <td>1</td>\n",
              "      <td>1</td>\n",
              "      <td>0</td>\n",
              "      <td>0</td>\n",
              "      <td>0</td>\n",
              "      <td>1</td>\n",
              "      <td>0</td>\n",
              "      <td>0</td>\n",
              "      <td>0</td>\n",
              "      <td>0</td>\n",
              "      <td>0</td>\n",
              "      <td>0</td>\n",
              "      <td>0</td>\n",
              "      <td>0</td>\n",
              "      <td>1</td>\n",
              "      <td>0</td>\n",
              "      <td>0</td>\n",
              "      <td>0</td>\n",
              "      <td>0</td>\n",
              "      <td>0</td>\n",
              "      <td>0</td>\n",
              "      <td>1</td>\n",
              "    </tr>\n",
              "    <tr>\n",
              "      <th>4</th>\n",
              "      <td>54</td>\n",
              "      <td>184</td>\n",
              "      <td>5</td>\n",
              "      <td>2</td>\n",
              "      <td>-1</td>\n",
              "      <td>0</td>\n",
              "      <td>1</td>\n",
              "      <td>1</td>\n",
              "      <td>0</td>\n",
              "      <td>0</td>\n",
              "      <td>0</td>\n",
              "      <td>0</td>\n",
              "      <td>0</td>\n",
              "      <td>0</td>\n",
              "      <td>0</td>\n",
              "      <td>0</td>\n",
              "      <td>0</td>\n",
              "      <td>0</td>\n",
              "      <td>0</td>\n",
              "      <td>0</td>\n",
              "      <td>1</td>\n",
              "      <td>0</td>\n",
              "      <td>0</td>\n",
              "      <td>0</td>\n",
              "      <td>1</td>\n",
              "      <td>0</td>\n",
              "      <td>1</td>\n",
              "      <td>0</td>\n",
              "      <td>1</td>\n",
              "      <td>0</td>\n",
              "      <td>1</td>\n",
              "      <td>0</td>\n",
              "      <td>0</td>\n",
              "      <td>0</td>\n",
              "      <td>1</td>\n",
              "      <td>0</td>\n",
              "      <td>0</td>\n",
              "      <td>0</td>\n",
              "      <td>0</td>\n",
              "      <td>0</td>\n",
              "      <td>0</td>\n",
              "      <td>0</td>\n",
              "      <td>0</td>\n",
              "      <td>1</td>\n",
              "      <td>0</td>\n",
              "      <td>0</td>\n",
              "      <td>0</td>\n",
              "      <td>0</td>\n",
              "      <td>0</td>\n",
              "      <td>0</td>\n",
              "      <td>1</td>\n",
              "    </tr>\n",
              "    <tr>\n",
              "      <th>...</th>\n",
              "      <td>...</td>\n",
              "      <td>...</td>\n",
              "      <td>...</td>\n",
              "      <td>...</td>\n",
              "      <td>...</td>\n",
              "      <td>...</td>\n",
              "      <td>...</td>\n",
              "      <td>...</td>\n",
              "      <td>...</td>\n",
              "      <td>...</td>\n",
              "      <td>...</td>\n",
              "      <td>...</td>\n",
              "      <td>...</td>\n",
              "      <td>...</td>\n",
              "      <td>...</td>\n",
              "      <td>...</td>\n",
              "      <td>...</td>\n",
              "      <td>...</td>\n",
              "      <td>...</td>\n",
              "      <td>...</td>\n",
              "      <td>...</td>\n",
              "      <td>...</td>\n",
              "      <td>...</td>\n",
              "      <td>...</td>\n",
              "      <td>...</td>\n",
              "      <td>...</td>\n",
              "      <td>...</td>\n",
              "      <td>...</td>\n",
              "      <td>...</td>\n",
              "      <td>...</td>\n",
              "      <td>...</td>\n",
              "      <td>...</td>\n",
              "      <td>...</td>\n",
              "      <td>...</td>\n",
              "      <td>...</td>\n",
              "      <td>...</td>\n",
              "      <td>...</td>\n",
              "      <td>...</td>\n",
              "      <td>...</td>\n",
              "      <td>...</td>\n",
              "      <td>...</td>\n",
              "      <td>...</td>\n",
              "      <td>...</td>\n",
              "      <td>...</td>\n",
              "      <td>...</td>\n",
              "      <td>...</td>\n",
              "      <td>...</td>\n",
              "      <td>...</td>\n",
              "      <td>...</td>\n",
              "      <td>...</td>\n",
              "      <td>...</td>\n",
              "    </tr>\n",
              "    <tr>\n",
              "      <th>11157</th>\n",
              "      <td>33</td>\n",
              "      <td>1</td>\n",
              "      <td>20</td>\n",
              "      <td>1</td>\n",
              "      <td>-1</td>\n",
              "      <td>0</td>\n",
              "      <td>0</td>\n",
              "      <td>0</td>\n",
              "      <td>1</td>\n",
              "      <td>0</td>\n",
              "      <td>0</td>\n",
              "      <td>0</td>\n",
              "      <td>0</td>\n",
              "      <td>0</td>\n",
              "      <td>0</td>\n",
              "      <td>0</td>\n",
              "      <td>0</td>\n",
              "      <td>0</td>\n",
              "      <td>0</td>\n",
              "      <td>0</td>\n",
              "      <td>0</td>\n",
              "      <td>1</td>\n",
              "      <td>1</td>\n",
              "      <td>0</td>\n",
              "      <td>0</td>\n",
              "      <td>0</td>\n",
              "      <td>1</td>\n",
              "      <td>0</td>\n",
              "      <td>0</td>\n",
              "      <td>1</td>\n",
              "      <td>1</td>\n",
              "      <td>0</td>\n",
              "      <td>1</td>\n",
              "      <td>0</td>\n",
              "      <td>0</td>\n",
              "      <td>1</td>\n",
              "      <td>0</td>\n",
              "      <td>0</td>\n",
              "      <td>0</td>\n",
              "      <td>0</td>\n",
              "      <td>0</td>\n",
              "      <td>0</td>\n",
              "      <td>0</td>\n",
              "      <td>0</td>\n",
              "      <td>0</td>\n",
              "      <td>0</td>\n",
              "      <td>0</td>\n",
              "      <td>0</td>\n",
              "      <td>0</td>\n",
              "      <td>0</td>\n",
              "      <td>1</td>\n",
              "    </tr>\n",
              "    <tr>\n",
              "      <th>11158</th>\n",
              "      <td>39</td>\n",
              "      <td>733</td>\n",
              "      <td>16</td>\n",
              "      <td>4</td>\n",
              "      <td>-1</td>\n",
              "      <td>0</td>\n",
              "      <td>0</td>\n",
              "      <td>0</td>\n",
              "      <td>0</td>\n",
              "      <td>0</td>\n",
              "      <td>0</td>\n",
              "      <td>0</td>\n",
              "      <td>0</td>\n",
              "      <td>0</td>\n",
              "      <td>1</td>\n",
              "      <td>0</td>\n",
              "      <td>0</td>\n",
              "      <td>0</td>\n",
              "      <td>0</td>\n",
              "      <td>0</td>\n",
              "      <td>1</td>\n",
              "      <td>0</td>\n",
              "      <td>0</td>\n",
              "      <td>1</td>\n",
              "      <td>0</td>\n",
              "      <td>0</td>\n",
              "      <td>1</td>\n",
              "      <td>0</td>\n",
              "      <td>1</td>\n",
              "      <td>0</td>\n",
              "      <td>1</td>\n",
              "      <td>0</td>\n",
              "      <td>0</td>\n",
              "      <td>0</td>\n",
              "      <td>1</td>\n",
              "      <td>0</td>\n",
              "      <td>0</td>\n",
              "      <td>0</td>\n",
              "      <td>0</td>\n",
              "      <td>0</td>\n",
              "      <td>0</td>\n",
              "      <td>1</td>\n",
              "      <td>0</td>\n",
              "      <td>0</td>\n",
              "      <td>0</td>\n",
              "      <td>0</td>\n",
              "      <td>0</td>\n",
              "      <td>0</td>\n",
              "      <td>0</td>\n",
              "      <td>0</td>\n",
              "      <td>1</td>\n",
              "    </tr>\n",
              "    <tr>\n",
              "      <th>11159</th>\n",
              "      <td>32</td>\n",
              "      <td>29</td>\n",
              "      <td>19</td>\n",
              "      <td>2</td>\n",
              "      <td>-1</td>\n",
              "      <td>0</td>\n",
              "      <td>0</td>\n",
              "      <td>0</td>\n",
              "      <td>0</td>\n",
              "      <td>0</td>\n",
              "      <td>0</td>\n",
              "      <td>0</td>\n",
              "      <td>0</td>\n",
              "      <td>0</td>\n",
              "      <td>0</td>\n",
              "      <td>0</td>\n",
              "      <td>1</td>\n",
              "      <td>0</td>\n",
              "      <td>0</td>\n",
              "      <td>0</td>\n",
              "      <td>0</td>\n",
              "      <td>1</td>\n",
              "      <td>0</td>\n",
              "      <td>1</td>\n",
              "      <td>0</td>\n",
              "      <td>0</td>\n",
              "      <td>1</td>\n",
              "      <td>0</td>\n",
              "      <td>1</td>\n",
              "      <td>0</td>\n",
              "      <td>1</td>\n",
              "      <td>0</td>\n",
              "      <td>1</td>\n",
              "      <td>0</td>\n",
              "      <td>0</td>\n",
              "      <td>0</td>\n",
              "      <td>1</td>\n",
              "      <td>0</td>\n",
              "      <td>0</td>\n",
              "      <td>0</td>\n",
              "      <td>0</td>\n",
              "      <td>0</td>\n",
              "      <td>0</td>\n",
              "      <td>0</td>\n",
              "      <td>0</td>\n",
              "      <td>0</td>\n",
              "      <td>0</td>\n",
              "      <td>0</td>\n",
              "      <td>0</td>\n",
              "      <td>0</td>\n",
              "      <td>1</td>\n",
              "    </tr>\n",
              "    <tr>\n",
              "      <th>11160</th>\n",
              "      <td>43</td>\n",
              "      <td>0</td>\n",
              "      <td>8</td>\n",
              "      <td>2</td>\n",
              "      <td>172</td>\n",
              "      <td>5</td>\n",
              "      <td>0</td>\n",
              "      <td>0</td>\n",
              "      <td>0</td>\n",
              "      <td>0</td>\n",
              "      <td>0</td>\n",
              "      <td>0</td>\n",
              "      <td>0</td>\n",
              "      <td>0</td>\n",
              "      <td>0</td>\n",
              "      <td>0</td>\n",
              "      <td>1</td>\n",
              "      <td>0</td>\n",
              "      <td>0</td>\n",
              "      <td>0</td>\n",
              "      <td>1</td>\n",
              "      <td>0</td>\n",
              "      <td>0</td>\n",
              "      <td>1</td>\n",
              "      <td>0</td>\n",
              "      <td>0</td>\n",
              "      <td>1</td>\n",
              "      <td>0</td>\n",
              "      <td>1</td>\n",
              "      <td>0</td>\n",
              "      <td>0</td>\n",
              "      <td>1</td>\n",
              "      <td>1</td>\n",
              "      <td>0</td>\n",
              "      <td>0</td>\n",
              "      <td>0</td>\n",
              "      <td>0</td>\n",
              "      <td>0</td>\n",
              "      <td>0</td>\n",
              "      <td>0</td>\n",
              "      <td>0</td>\n",
              "      <td>0</td>\n",
              "      <td>0</td>\n",
              "      <td>1</td>\n",
              "      <td>0</td>\n",
              "      <td>0</td>\n",
              "      <td>0</td>\n",
              "      <td>1</td>\n",
              "      <td>0</td>\n",
              "      <td>0</td>\n",
              "      <td>0</td>\n",
              "    </tr>\n",
              "    <tr>\n",
              "      <th>11161</th>\n",
              "      <td>34</td>\n",
              "      <td>0</td>\n",
              "      <td>9</td>\n",
              "      <td>1</td>\n",
              "      <td>-1</td>\n",
              "      <td>0</td>\n",
              "      <td>0</td>\n",
              "      <td>0</td>\n",
              "      <td>0</td>\n",
              "      <td>0</td>\n",
              "      <td>0</td>\n",
              "      <td>0</td>\n",
              "      <td>0</td>\n",
              "      <td>0</td>\n",
              "      <td>0</td>\n",
              "      <td>0</td>\n",
              "      <td>1</td>\n",
              "      <td>0</td>\n",
              "      <td>0</td>\n",
              "      <td>0</td>\n",
              "      <td>1</td>\n",
              "      <td>0</td>\n",
              "      <td>0</td>\n",
              "      <td>1</td>\n",
              "      <td>0</td>\n",
              "      <td>0</td>\n",
              "      <td>1</td>\n",
              "      <td>0</td>\n",
              "      <td>1</td>\n",
              "      <td>0</td>\n",
              "      <td>1</td>\n",
              "      <td>0</td>\n",
              "      <td>1</td>\n",
              "      <td>0</td>\n",
              "      <td>0</td>\n",
              "      <td>0</td>\n",
              "      <td>0</td>\n",
              "      <td>0</td>\n",
              "      <td>0</td>\n",
              "      <td>0</td>\n",
              "      <td>1</td>\n",
              "      <td>0</td>\n",
              "      <td>0</td>\n",
              "      <td>0</td>\n",
              "      <td>0</td>\n",
              "      <td>0</td>\n",
              "      <td>0</td>\n",
              "      <td>0</td>\n",
              "      <td>0</td>\n",
              "      <td>0</td>\n",
              "      <td>1</td>\n",
              "    </tr>\n",
              "  </tbody>\n",
              "</table>\n",
              "<p>11162 rows × 51 columns</p>\n",
              "</div>"
            ],
            "text/plain": [
              "       age  balance  day  ...  poutcome_other  poutcome_success  poutcome_unknown\n",
              "0       59     2343    5  ...               0                 0                 1\n",
              "1       56       45    5  ...               0                 0                 1\n",
              "2       41     1270    5  ...               0                 0                 1\n",
              "3       55     2476    5  ...               0                 0                 1\n",
              "4       54      184    5  ...               0                 0                 1\n",
              "...    ...      ...  ...  ...             ...               ...               ...\n",
              "11157   33        1   20  ...               0                 0                 1\n",
              "11158   39      733   16  ...               0                 0                 1\n",
              "11159   32       29   19  ...               0                 0                 1\n",
              "11160   43        0    8  ...               0                 0                 0\n",
              "11161   34        0    9  ...               0                 0                 1\n",
              "\n",
              "[11162 rows x 51 columns]"
            ]
          },
          "metadata": {
            "tags": []
          },
          "execution_count": 133
        }
      ]
    },
    {
      "cell_type": "code",
      "metadata": {
        "id": "AxA1xdDWdSMo"
      },
      "source": [
        "# partitioning again\n",
        "for train_index, test_index in sss.split(df_deposit.drop(\"deposit\", axis=1), df_deposit.deposit):\n",
        "  traindf=df_deposit.loc[train_index]\n",
        "  testdf=df_deposit.loc[test_index]"
      ],
      "execution_count": 106,
      "outputs": []
    },
    {
      "cell_type": "code",
      "metadata": {
        "id": "MMW0lBwTd12z",
        "outputId": "c182c6a6-507d-4737-8a55-ca1272b82996",
        "colab": {
          "base_uri": "https://localhost:8080/",
          "height": 230
        }
      },
      "source": [
        "# partition x/y\n",
        "xtrain=traindf.drop('deposit', axis=1)\n",
        "ytrain=traindf.deposit\n",
        "\n",
        "xtest=testdf.drop('deposit', axis=1)\n",
        "ytest=testdf.deposit\n",
        "\n",
        "ytest"
      ],
      "execution_count": 132,
      "outputs": [
        {
          "output_type": "execute_result",
          "data": {
            "text/plain": [
              "304     1\n",
              "5524    0\n",
              "3033    1\n",
              "3067    1\n",
              "3155    1\n",
              "       ..\n",
              "5434    0\n",
              "9922    0\n",
              "2949    1\n",
              "2297    1\n",
              "2474    1\n",
              "Name: deposit, Length: 3349, dtype: int64"
            ]
          },
          "metadata": {
            "tags": []
          },
          "execution_count": 132
        }
      ]
    },
    {
      "cell_type": "markdown",
      "metadata": {
        "id": "zmUqcGtPezQk"
      },
      "source": [
        "## **Classification Models**\n",
        "\n",
        "Using Naive-Bayes, K-Nearest Neighbors (KNN) and Gradient Boosting Classifier"
      ]
    },
    {
      "cell_type": "markdown",
      "metadata": {
        "id": "NjGVV-Z8fR9O"
      },
      "source": [
        "### **Naive-Bayes**"
      ]
    },
    {
      "cell_type": "markdown",
      "metadata": {
        "id": "lT2SJhwQKIuD"
      },
      "source": [
        "#### **Modelling & Predicting**"
      ]
    },
    {
      "cell_type": "code",
      "metadata": {
        "id": "NgkX_-abf1yn"
      },
      "source": [
        "# modelling Naive Bayes Classifier\n",
        "gnb = GaussianNB()\n",
        "#gnb_scores = cross_val_score(gnb, xtrain, ytrain, cv=3)\n",
        "gnb.fit(xtrain,ytrain)\n",
        "\n",
        "# predict to test data\n",
        "y_pred_gnb = gnb.predict(xtest)"
      ],
      "execution_count": 108,
      "outputs": []
    },
    {
      "cell_type": "markdown",
      "metadata": {
        "id": "81d_S2UgKdIM"
      },
      "source": [
        "#### **Model Evaluation**"
      ]
    },
    {
      "cell_type": "code",
      "metadata": {
        "id": "FWZqtXS2gVF9",
        "outputId": "b38f706d-568b-47cd-bf19-96bd6db9c96f",
        "colab": {
          "base_uri": "https://localhost:8080/",
          "height": 52
        }
      },
      "source": [
        "# show the confusion matrix\n",
        "cm_gnb = metrics.confusion_matrix(ytest, y_pred_gnb)\n",
        "cm_gnb"
      ],
      "execution_count": 109,
      "outputs": [
        {
          "output_type": "execute_result",
          "data": {
            "text/plain": [
              "array([[1460,  302],\n",
              "       [ 704,  883]])"
            ]
          },
          "metadata": {
            "tags": []
          },
          "execution_count": 109
        }
      ]
    },
    {
      "cell_type": "code",
      "metadata": {
        "id": "Vsxdo8ILjbP8",
        "outputId": "a1acd7ac-e02b-44ce-b63c-1e561a888c41",
        "colab": {
          "base_uri": "https://localhost:8080/",
          "height": 106
        }
      },
      "source": [
        "# show the accuracy, precision, recall\n",
        "acc_gnb = metrics.accuracy_score(ytest, y_pred_gnb)\n",
        "prec_gnb = metrics.precision_score(ytest, y_pred_gnb)\n",
        "rec_gnb = metrics.recall_score(ytest, y_pred_gnb)\n",
        "f1_gnb = metrics.f1_score(ytest, y_pred_gnb)\n",
        "kappa_gnb = metrics.cohen_kappa_score(ytest, y_pred_gnb)\n",
        "\n",
        "print('Accuracy:', acc_gnb)\n",
        "print('Precision:', prec_gnb)\n",
        "print('Recall:', rec_gnb)\n",
        "print('F1 Score:', f1_gnb)\n",
        "print('Cohens Kappa Score:', kappa_gnb)"
      ],
      "execution_count": 131,
      "outputs": [
        {
          "output_type": "stream",
          "text": [
            "Accuracy: 0.6996118244252015\n",
            "Precision: 0.7451476793248946\n",
            "Recall: 0.5563957151858853\n",
            "F1 Score: 0.6370851370851371\n",
            "Cohens Kappa Score: 0.3899042381005672\n"
          ],
          "name": "stdout"
        }
      ]
    },
    {
      "cell_type": "code",
      "metadata": {
        "id": "9c4dmEMekZr2",
        "outputId": "a387ebc0-404c-45da-ae57-29db4b4b23a3",
        "colab": {
          "base_uri": "https://localhost:8080/",
          "height": 626
        }
      },
      "source": [
        "# personalize the visualization\n",
        "plt.rcParams['figure.figsize'] = (10,10)\n",
        "plt.style.use('ggplot')\n",
        "\n",
        "# ROC Curve\n",
        "y_pred_gnb_prob = gnb.predict_proba(xtest)[::,1]\n",
        "fprgnb, tprgnb, _ = metrics.roc_curve(ytest,  y_pred_gnb_prob)\n",
        "aucgnb = metrics.roc_auc_score(ytest, y_pred_gnb_prob)\n",
        "plt.plot(fprgnb,tprgnb,label=\"Naive Bayes, auc=\"+str(aucgnb))\n",
        "plt.title('ROC Curve - Naive Bayes')\n",
        "plt.xlabel('false positive rate') \n",
        "plt.ylabel('true positive rate')\n",
        "plt.legend(loc=4)\n",
        "plt.show()"
      ],
      "execution_count": 147,
      "outputs": [
        {
          "output_type": "display_data",
          "data": {
            "image/png": "[encoded data removed]",
            "text/plain": [
              "<Figure size 720x720 with 1 Axes>"
            ]
          },
          "metadata": {
            "tags": []
          }
        }
      ]
    },
    {
      "cell_type": "markdown",
      "metadata": {
        "id": "u9CMVBxEleph"
      },
      "source": [
        "### **KNN**"
      ]
    },
    {
      "cell_type": "markdown",
      "metadata": {
        "id": "WZBUl6mRKwqN"
      },
      "source": [
        "#### **Modelling & Predicting**"
      ]
    },
    {
      "cell_type": "code",
      "metadata": {
        "id": "WpRUrzQxzTWO"
      },
      "source": [
        "# modeling\n",
        "knn_clf = KNeighborsClassifier()\n",
        "knn_clf.fit(xtrain, ytrain)\n",
        "\n",
        "# predict to test data\n",
        "y_pred_knn = knn_clf.predict(xtest)"
      ],
      "execution_count": 112,
      "outputs": []
    },
    {
      "cell_type": "markdown",
      "metadata": {
        "id": "UOTuJtxAKyvL"
      },
      "source": [
        "#### **Model Evaluation**"
      ]
    },
    {
      "cell_type": "code",
      "metadata": {
        "id": "EaA03L7zzlqJ",
        "outputId": "9a3f62fb-912f-4ad9-d58d-7f4f54196594",
        "colab": {
          "base_uri": "https://localhost:8080/",
          "height": 52
        }
      },
      "source": [
        "# show the confusion matrix\n",
        "cm_knn = metrics.confusion_matrix(ytest, y_pred_knn)\n",
        "cm_knn"
      ],
      "execution_count": 113,
      "outputs": [
        {
          "output_type": "execute_result",
          "data": {
            "text/plain": [
              "array([[1148,  614],\n",
              "       [ 778,  809]])"
            ]
          },
          "metadata": {
            "tags": []
          },
          "execution_count": 113
        }
      ]
    },
    {
      "cell_type": "code",
      "metadata": {
        "id": "oyNi2Tyhzwgy",
        "outputId": "20932778-f384-45b2-e2a0-f09ca97d1a90",
        "colab": {
          "base_uri": "https://localhost:8080/",
          "height": 106
        }
      },
      "source": [
        "# show the accuracy, precision, recall\n",
        "acc_knn = metrics.accuracy_score(ytest, y_pred_knn)\n",
        "prec_knn = metrics.precision_score(ytest, y_pred_knn)\n",
        "rec_knn = metrics.recall_score(ytest, y_pred_knn)\n",
        "f1_knn = metrics.f1_score(ytest, y_pred_knn)\n",
        "kappa_knn = metrics.cohen_kappa_score(ytest, y_pred_knn)\n",
        "\n",
        "print('Accuracy:', acc_knn)\n",
        "print('Precision:', prec_knn)\n",
        "print('Recall:', rec_knn)\n",
        "print('F1 Score:', f1_knn)\n",
        "print('Cohens Kappa Score:', kappa_knn)"
      ],
      "execution_count": 114,
      "outputs": [
        {
          "output_type": "stream",
          "text": [
            "Accuracy: 0.5843535383696626\n",
            "Precision: 0.5685172171468728\n",
            "Recall: 0.5097668557025835\n",
            "F1 Score: 0.5375415282392026\n",
            "Cohens Kappa Score: 0.16213122909735067\n"
          ],
          "name": "stdout"
        }
      ]
    },
    {
      "cell_type": "code",
      "metadata": {
        "id": "LsPYRyAx2eFE",
        "outputId": "3f1f3533-4bb9-49b2-e216-7a9ae8c5a4e8",
        "colab": {
          "base_uri": "https://localhost:8080/",
          "height": 626
        }
      },
      "source": [
        "# personalize the visualization\n",
        "plt.rcParams['figure.figsize'] = (10,10)\n",
        "plt.style.use('ggplot')\n",
        "\n",
        "# ROC Curve\n",
        "y_pred_knn_prob = knn_clf.predict_proba(xtest)[::,1]\n",
        "fprknn, tprknn, _ = metrics.roc_curve(ytest,  y_pred_knn_prob)\n",
        "aucknn = metrics.roc_auc_score(ytest, y_pred_knn_prob)\n",
        "plt.plot(fprknn,tprknn,label=\"KNN, auc=\"+str(aucknn))\n",
        "plt.title('ROC Curve - KNN')\n",
        "plt.xlabel('false positive rate') \n",
        "plt.ylabel('true positive rate')\n",
        "plt.legend(loc=4)\n",
        "plt.show()"
      ],
      "execution_count": 144,
      "outputs": [
        {
          "output_type": "display_data",
          "data": {
            "image/png": "[encoded data removed]",
            "text/plain": [
              "<Figure size 720x720 with 1 Axes>"
            ]
          },
          "metadata": {
            "tags": []
          }
        }
      ]
    },
    {
      "cell_type": "code",
      "metadata": {
        "id": "-d-oYI7fmbtf"
      },
      "source": [
        "# pipeline combining transformers and estimator\n",
        "#pipe_knn = make_pipeline(StandardScaler(), KNeighborsClassifier())\n",
        "\n",
        "# grid search to choose the best (combination of) hyperparameters\n",
        "#gs_knn = GridSearchCV(estimator = pipe_knn,\n",
        " #                     param_grid = {'kneighborsclassifier__n_neighbors' : [4,5,6,7]},\n",
        "  #                    scoring='accuracy',\n",
        "   #                   cv=10)\n",
        "# nested cross validation combining grid search (inner loop) and k-fold cv(outer loop)\n",
        "#gs_knn_scores = cross_val_score(gs_knn, X=xtrain, y=ytrain, cv=5, scoring='accuracy', n_jobs=-1)\n",
        "\n",
        "# fit, and fit with best estimator\n",
        "#gs_knn.fit(xtrain, ytrain)\n",
        "#gs_knn_best = gs_knn.best_estimator_\n",
        "#gs_knn_best.fit(xtrain, ytrain)\n",
        "\n",
        "#print('Train Accuracy: {0:.1f}%'.format(gs_knn.score(xtrain, ytrain)*100))\n",
        "#print('CV Mean Accuracy: {0:.1f}%'.format(np.mean(gs_knn_scores)*100))\n",
        "#print('Test Accuracy: {0:.1f}%'.format(gs_knn.score(xtest,ytest)*100))"
      ],
      "execution_count": 116,
      "outputs": []
    },
    {
      "cell_type": "markdown",
      "metadata": {
        "id": "JL3tLCyZx2nW"
      },
      "source": [
        "### **Gradient Boosting Classifier**"
      ]
    },
    {
      "cell_type": "markdown",
      "metadata": {
        "id": "sdb4pH1vK6Oy"
      },
      "source": [
        "#### **Modelling & Predicting**"
      ]
    },
    {
      "cell_type": "code",
      "metadata": {
        "id": "hjs8tglDx8ot"
      },
      "source": [
        "# modeling\n",
        "grad_clf = GradientBoostingClassifier()\n",
        "grad_clf.fit(xtrain, ytrain)\n",
        "\n",
        "# predict to test data\n",
        "y_pred_grad_clf = grad_clf.predict(xtest)"
      ],
      "execution_count": 118,
      "outputs": []
    },
    {
      "cell_type": "markdown",
      "metadata": {
        "id": "cjwBCJiMK7c2"
      },
      "source": [
        "#### **Model Evaluation**"
      ]
    },
    {
      "cell_type": "code",
      "metadata": {
        "id": "mjYCEfOGyhZi",
        "outputId": "0b431879-1c69-40c4-c829-2eb10aaa0505",
        "colab": {
          "base_uri": "https://localhost:8080/",
          "height": 52
        }
      },
      "source": [
        "# show the confusion matrix\n",
        "cm_grad = metrics.confusion_matrix(ytest, y_pred_grad_clf)\n",
        "cm_grad"
      ],
      "execution_count": 119,
      "outputs": [
        {
          "output_type": "execute_result",
          "data": {
            "text/plain": [
              "array([[1486,  276],\n",
              "       [ 577, 1010]])"
            ]
          },
          "metadata": {
            "tags": []
          },
          "execution_count": 119
        }
      ]
    },
    {
      "cell_type": "code",
      "metadata": {
        "id": "aqMm08LeyqpR",
        "outputId": "09e663e3-16b7-4ea7-c80f-f4a58f7bc8bf",
        "colab": {
          "base_uri": "https://localhost:8080/",
          "height": 106
        }
      },
      "source": [
        "# show the accuracy, precision, recall\n",
        "acc_grad = metrics.accuracy_score(ytest, y_pred_grad_clf)\n",
        "prec_grad = metrics.precision_score(ytest, y_pred_grad_clf)\n",
        "rec_grad = metrics.recall_score(ytest, y_pred_grad_clf)\n",
        "f1_grad = metrics.f1_score(ytest, y_pred_grad_clf)\n",
        "kappa_grad = metrics.cohen_kappa_score(ytest, y_pred_grad_clf)\n",
        "\n",
        "print('Accuracy:', acc_grad)\n",
        "print('Precision:', prec_grad)\n",
        "print('Recall:', rec_grad)\n",
        "print('F1 Score:', f1_grad)\n",
        "print('Cohens Kappa Score:', kappa_grad)"
      ],
      "execution_count": 120,
      "outputs": [
        {
          "output_type": "stream",
          "text": [
            "Accuracy: 0.7452971036130188\n",
            "Precision: 0.7853810264385692\n",
            "Recall: 0.6364209199747952\n",
            "F1 Score: 0.7030978071702054\n",
            "Cohens Kappa Score: 0.4843426241531229\n"
          ],
          "name": "stdout"
        }
      ]
    },
    {
      "cell_type": "code",
      "metadata": {
        "id": "Y-xkKKFnzAso",
        "outputId": "76e0b4c4-5807-4f6e-bfa4-e1d434b5ba3c",
        "colab": {
          "base_uri": "https://localhost:8080/",
          "height": 626
        }
      },
      "source": [
        "# personalize the visualization\n",
        "plt.rcParams['figure.figsize'] = (10,10)\n",
        "plt.style.use('ggplot')\n",
        "\n",
        "# ROC Curve\n",
        "y_pred_grad_prob = grad_clf.predict_proba(xtest)[::,1]\n",
        "fprgrad, tprgrad, _ = metrics.roc_curve(ytest,  y_pred_grad_prob)\n",
        "aucgrad = metrics.roc_auc_score(ytest, y_pred_grad_prob)\n",
        "plt.plot(fprgrad,tprgrad,label=\"Gradient Boosting Classifier, auc=\"+str(aucgrad))\n",
        "plt.title('ROC Curve - Gradient Boosting Classifier')\n",
        "plt.xlabel('false positive rate') \n",
        "plt.ylabel('true positive rate')\n",
        "plt.legend(loc=4)\n",
        "plt.show()"
      ],
      "execution_count": 143,
      "outputs": [
        {
          "output_type": "display_data",
          "data": {
            "image/png": "[encoded data removed]",
            "text/plain": [
              "<Figure size 720x720 with 1 Axes>"
            ]
          },
          "metadata": {
            "tags": []
          }
        }
      ]
    },
    {
      "cell_type": "markdown",
      "metadata": {
        "id": "06n1kGehDmHr"
      },
      "source": [
        "## **Model Comparison**\n",
        "\n",
        "The comparisons are based on model performance, ROC Curves, and prediction on the dataset"
      ]
    },
    {
      "cell_type": "markdown",
      "metadata": {
        "id": "3sO3FhemEYry"
      },
      "source": [
        "### **Comparing Model Performance**"
      ]
    },
    {
      "cell_type": "code",
      "metadata": {
        "id": "h1N8d7YpDxHr",
        "outputId": "cab50923-3c09-4338-e178-d20bbfccc611",
        "colab": {
          "base_uri": "https://localhost:8080/",
          "height": 266
        }
      },
      "source": [
        "# comparing model performance\n",
        "print('Naive-Bayes Accuracy:', acc_gnb)\n",
        "print('Naive-Bayes Precision:', prec_gnb)\n",
        "print('Naive-Bayes Recall:', rec_gnb)\n",
        "print('Naive-Bayes F1 Score:', f1_gnb)\n",
        "print(\"---------------------------\")\n",
        "print('KKN Accuracy:', acc_knn)\n",
        "print('KKN Precision:', prec_knn)\n",
        "print('KKN Recall:', rec_knn)\n",
        "print('KKN F1 Score:', f1_knn)\n",
        "print(\"---------------------------\")\n",
        "print('Gradient Boosting Classifier Accuracy:', acc_grad)\n",
        "print('Gradient Boosting Classifier Precision:', prec_grad)\n",
        "print('Gradient Boosting Classifier Recall:', rec_grad)\n",
        "print('Gradient Boosting Classifier F1 Score:', f1_grad)"
      ],
      "execution_count": 140,
      "outputs": [
        {
          "output_type": "stream",
          "text": [
            "Naive-Bayes Accuracy: 0.6996118244252015\n",
            "Naive-Bayes Precision: 0.7451476793248946\n",
            "Naive-Bayes Recall: 0.5563957151858853\n",
            "Naive-Bayes F1 Score: 0.6370851370851371\n",
            "---------------------------\n",
            "KKN Accuracy: 0.5843535383696626\n",
            "KKN Precision: 0.5685172171468728\n",
            "KKN Recall: 0.5097668557025835\n",
            "KKN F1 Score: 0.5375415282392026\n",
            "---------------------------\n",
            "Gradient Boosting Classifier Accuracy: 0.7452971036130188\n",
            "Gradient Boosting Classifier Precision: 0.7853810264385692\n",
            "Gradient Boosting Classifier Recall: 0.6364209199747952\n",
            "Gradient Boosting Classifier F1 Score: 0.7030978071702054\n"
          ],
          "name": "stdout"
        }
      ]
    },
    {
      "cell_type": "markdown",
      "metadata": {
        "id": "rwxC9G67EeiZ"
      },
      "source": [
        "### **Comparing ROC Curves**"
      ]
    },
    {
      "cell_type": "code",
      "metadata": {
        "id": "Ztw3vIYFFDIE",
        "outputId": "e40f49d9-c71e-4215-9394-12cb0ed53ecb",
        "colab": {
          "base_uri": "https://localhost:8080/",
          "height": 626
        }
      },
      "source": [
        "# Comparing ROC Curve\n",
        "plt.plot(fprgnb,tprgnb,label=\"Naive Bayes, auc=\"+str(aucgnb))\n",
        "plt.plot(fprknn,tprknn,label=\"KNN, auc=\"+str(aucknn))\n",
        "plt.plot(fprgrad,tprgrad,label=\"Gradient Boosting Classifer, auc=\"+str(aucgrad))\n",
        "plt.title('ROC Curve Comparison')\n",
        "plt.xlabel('False Positive Rate')\n",
        "plt.ylabel('True Positive Rate')\n",
        "plt.legend(loc=4)\n",
        "plt.show()"
      ],
      "execution_count": 148,
      "outputs": [
        {
          "output_type": "display_data",
          "data": {
            "image/png": "[encoded data removed]",
            "text/plain": [
              "<Figure size 720x720 with 1 Axes>"
            ]
          },
          "metadata": {
            "tags": []
          }
        }
      ]
    },
    {
      "cell_type": "markdown",
      "metadata": {
        "id": "zDmvjgZ3HURR"
      },
      "source": [
        "### **Comparison Based on Prediction**"
      ]
    },
    {
      "cell_type": "code",
      "metadata": {
        "id": "kApVn7rXHXcP",
        "outputId": "184623e3-19d9-4b3a-ec05-b8cc00ccd024",
        "colab": {
          "base_uri": "https://localhost:8080/",
          "height": 254
        }
      },
      "source": [
        "# Create Datafame Contains Fature and Result of prediction\n",
        "df_compare = xtest.copy()\n",
        "df_compare['ActualClass'] = ytest\n",
        "df_compare['NaiveBayes'] = y_pred_gnb\n",
        "df_compare['KNN'] = y_pred_knn\n",
        "df_compare['Gradient Boosting Classifier'] = y_pred_grad_clf\n",
        "df_compare.head()"
      ],
      "execution_count": 150,
      "outputs": [
        {
          "output_type": "execute_result",
          "data": {
            "text/html": [
              "<div>\n",
              "<style scoped>\n",
              "    .dataframe tbody tr th:only-of-type {\n",
              "        vertical-align: middle;\n",
              "    }\n",
              "\n",
              "    .dataframe tbody tr th {\n",
              "        vertical-align: top;\n",
              "    }\n",
              "\n",
              "    .dataframe thead th {\n",
              "        text-align: right;\n",
              "    }\n",
              "</style>\n",
              "<table border=\"1\" class=\"dataframe\">\n",
              "  <thead>\n",
              "    <tr style=\"text-align: right;\">\n",
              "      <th></th>\n",
              "      <th>age</th>\n",
              "      <th>balance</th>\n",
              "      <th>day</th>\n",
              "      <th>campaign</th>\n",
              "      <th>pdays</th>\n",
              "      <th>previous</th>\n",
              "      <th>job_admin.</th>\n",
              "      <th>job_blue-collar</th>\n",
              "      <th>job_entrepreneur</th>\n",
              "      <th>job_housemaid</th>\n",
              "      <th>job_management</th>\n",
              "      <th>job_retired</th>\n",
              "      <th>job_self-employed</th>\n",
              "      <th>job_services</th>\n",
              "      <th>job_student</th>\n",
              "      <th>job_technician</th>\n",
              "      <th>job_unemployed</th>\n",
              "      <th>job_unknown</th>\n",
              "      <th>marital_divorced</th>\n",
              "      <th>marital_married</th>\n",
              "      <th>marital_single</th>\n",
              "      <th>education_primary</th>\n",
              "      <th>education_secondary</th>\n",
              "      <th>education_tertiary</th>\n",
              "      <th>education_unknown</th>\n",
              "      <th>default_no</th>\n",
              "      <th>default_yes</th>\n",
              "      <th>housing_no</th>\n",
              "      <th>housing_yes</th>\n",
              "      <th>loan_no</th>\n",
              "      <th>loan_yes</th>\n",
              "      <th>contact_cellular</th>\n",
              "      <th>contact_telephone</th>\n",
              "      <th>contact_unknown</th>\n",
              "      <th>month_apr</th>\n",
              "      <th>month_aug</th>\n",
              "      <th>month_dec</th>\n",
              "      <th>month_feb</th>\n",
              "      <th>month_jan</th>\n",
              "      <th>month_jul</th>\n",
              "      <th>month_jun</th>\n",
              "      <th>month_mar</th>\n",
              "      <th>month_may</th>\n",
              "      <th>month_nov</th>\n",
              "      <th>month_oct</th>\n",
              "      <th>month_sep</th>\n",
              "      <th>poutcome_failure</th>\n",
              "      <th>poutcome_other</th>\n",
              "      <th>poutcome_success</th>\n",
              "      <th>poutcome_unknown</th>\n",
              "      <th>ActualClass</th>\n",
              "      <th>NaiveBayes</th>\n",
              "      <th>KNN</th>\n",
              "      <th>Gradient Boosting Classifier</th>\n",
              "    </tr>\n",
              "  </thead>\n",
              "  <tbody>\n",
              "    <tr>\n",
              "      <th>304</th>\n",
              "      <td>46</td>\n",
              "      <td>536</td>\n",
              "      <td>16</td>\n",
              "      <td>2</td>\n",
              "      <td>-1</td>\n",
              "      <td>0</td>\n",
              "      <td>0</td>\n",
              "      <td>0</td>\n",
              "      <td>0</td>\n",
              "      <td>0</td>\n",
              "      <td>0</td>\n",
              "      <td>0</td>\n",
              "      <td>0</td>\n",
              "      <td>0</td>\n",
              "      <td>0</td>\n",
              "      <td>1</td>\n",
              "      <td>0</td>\n",
              "      <td>0</td>\n",
              "      <td>0</td>\n",
              "      <td>1</td>\n",
              "      <td>0</td>\n",
              "      <td>0</td>\n",
              "      <td>1</td>\n",
              "      <td>0</td>\n",
              "      <td>0</td>\n",
              "      <td>1</td>\n",
              "      <td>0</td>\n",
              "      <td>0</td>\n",
              "      <td>1</td>\n",
              "      <td>1</td>\n",
              "      <td>0</td>\n",
              "      <td>0</td>\n",
              "      <td>0</td>\n",
              "      <td>1</td>\n",
              "      <td>0</td>\n",
              "      <td>0</td>\n",
              "      <td>0</td>\n",
              "      <td>0</td>\n",
              "      <td>0</td>\n",
              "      <td>0</td>\n",
              "      <td>1</td>\n",
              "      <td>0</td>\n",
              "      <td>0</td>\n",
              "      <td>0</td>\n",
              "      <td>0</td>\n",
              "      <td>0</td>\n",
              "      <td>0</td>\n",
              "      <td>0</td>\n",
              "      <td>0</td>\n",
              "      <td>1</td>\n",
              "      <td>1</td>\n",
              "      <td>0</td>\n",
              "      <td>0</td>\n",
              "      <td>0</td>\n",
              "    </tr>\n",
              "    <tr>\n",
              "      <th>5524</th>\n",
              "      <td>25</td>\n",
              "      <td>148</td>\n",
              "      <td>23</td>\n",
              "      <td>1</td>\n",
              "      <td>-1</td>\n",
              "      <td>0</td>\n",
              "      <td>0</td>\n",
              "      <td>0</td>\n",
              "      <td>0</td>\n",
              "      <td>0</td>\n",
              "      <td>0</td>\n",
              "      <td>0</td>\n",
              "      <td>0</td>\n",
              "      <td>0</td>\n",
              "      <td>0</td>\n",
              "      <td>1</td>\n",
              "      <td>0</td>\n",
              "      <td>0</td>\n",
              "      <td>0</td>\n",
              "      <td>0</td>\n",
              "      <td>1</td>\n",
              "      <td>0</td>\n",
              "      <td>0</td>\n",
              "      <td>1</td>\n",
              "      <td>0</td>\n",
              "      <td>1</td>\n",
              "      <td>0</td>\n",
              "      <td>1</td>\n",
              "      <td>0</td>\n",
              "      <td>1</td>\n",
              "      <td>0</td>\n",
              "      <td>1</td>\n",
              "      <td>0</td>\n",
              "      <td>0</td>\n",
              "      <td>0</td>\n",
              "      <td>0</td>\n",
              "      <td>0</td>\n",
              "      <td>0</td>\n",
              "      <td>0</td>\n",
              "      <td>1</td>\n",
              "      <td>0</td>\n",
              "      <td>0</td>\n",
              "      <td>0</td>\n",
              "      <td>0</td>\n",
              "      <td>0</td>\n",
              "      <td>0</td>\n",
              "      <td>0</td>\n",
              "      <td>0</td>\n",
              "      <td>0</td>\n",
              "      <td>1</td>\n",
              "      <td>0</td>\n",
              "      <td>0</td>\n",
              "      <td>1</td>\n",
              "      <td>1</td>\n",
              "    </tr>\n",
              "    <tr>\n",
              "      <th>3033</th>\n",
              "      <td>68</td>\n",
              "      <td>1443</td>\n",
              "      <td>21</td>\n",
              "      <td>2</td>\n",
              "      <td>257</td>\n",
              "      <td>1</td>\n",
              "      <td>0</td>\n",
              "      <td>0</td>\n",
              "      <td>0</td>\n",
              "      <td>0</td>\n",
              "      <td>0</td>\n",
              "      <td>1</td>\n",
              "      <td>0</td>\n",
              "      <td>0</td>\n",
              "      <td>0</td>\n",
              "      <td>0</td>\n",
              "      <td>0</td>\n",
              "      <td>0</td>\n",
              "      <td>0</td>\n",
              "      <td>1</td>\n",
              "      <td>0</td>\n",
              "      <td>0</td>\n",
              "      <td>1</td>\n",
              "      <td>0</td>\n",
              "      <td>0</td>\n",
              "      <td>1</td>\n",
              "      <td>0</td>\n",
              "      <td>1</td>\n",
              "      <td>0</td>\n",
              "      <td>1</td>\n",
              "      <td>0</td>\n",
              "      <td>0</td>\n",
              "      <td>1</td>\n",
              "      <td>0</td>\n",
              "      <td>0</td>\n",
              "      <td>0</td>\n",
              "      <td>1</td>\n",
              "      <td>0</td>\n",
              "      <td>0</td>\n",
              "      <td>0</td>\n",
              "      <td>0</td>\n",
              "      <td>0</td>\n",
              "      <td>0</td>\n",
              "      <td>0</td>\n",
              "      <td>0</td>\n",
              "      <td>0</td>\n",
              "      <td>0</td>\n",
              "      <td>0</td>\n",
              "      <td>1</td>\n",
              "      <td>0</td>\n",
              "      <td>1</td>\n",
              "      <td>1</td>\n",
              "      <td>1</td>\n",
              "      <td>1</td>\n",
              "    </tr>\n",
              "    <tr>\n",
              "      <th>3067</th>\n",
              "      <td>87</td>\n",
              "      <td>2190</td>\n",
              "      <td>12</td>\n",
              "      <td>2</td>\n",
              "      <td>-1</td>\n",
              "      <td>0</td>\n",
              "      <td>0</td>\n",
              "      <td>0</td>\n",
              "      <td>0</td>\n",
              "      <td>0</td>\n",
              "      <td>0</td>\n",
              "      <td>1</td>\n",
              "      <td>0</td>\n",
              "      <td>0</td>\n",
              "      <td>0</td>\n",
              "      <td>0</td>\n",
              "      <td>0</td>\n",
              "      <td>0</td>\n",
              "      <td>0</td>\n",
              "      <td>1</td>\n",
              "      <td>0</td>\n",
              "      <td>1</td>\n",
              "      <td>0</td>\n",
              "      <td>0</td>\n",
              "      <td>0</td>\n",
              "      <td>1</td>\n",
              "      <td>0</td>\n",
              "      <td>1</td>\n",
              "      <td>0</td>\n",
              "      <td>1</td>\n",
              "      <td>0</td>\n",
              "      <td>0</td>\n",
              "      <td>1</td>\n",
              "      <td>0</td>\n",
              "      <td>0</td>\n",
              "      <td>0</td>\n",
              "      <td>0</td>\n",
              "      <td>0</td>\n",
              "      <td>1</td>\n",
              "      <td>0</td>\n",
              "      <td>0</td>\n",
              "      <td>0</td>\n",
              "      <td>0</td>\n",
              "      <td>0</td>\n",
              "      <td>0</td>\n",
              "      <td>0</td>\n",
              "      <td>0</td>\n",
              "      <td>0</td>\n",
              "      <td>0</td>\n",
              "      <td>1</td>\n",
              "      <td>1</td>\n",
              "      <td>1</td>\n",
              "      <td>0</td>\n",
              "      <td>1</td>\n",
              "    </tr>\n",
              "    <tr>\n",
              "      <th>3155</th>\n",
              "      <td>35</td>\n",
              "      <td>415</td>\n",
              "      <td>4</td>\n",
              "      <td>1</td>\n",
              "      <td>176</td>\n",
              "      <td>1</td>\n",
              "      <td>0</td>\n",
              "      <td>0</td>\n",
              "      <td>0</td>\n",
              "      <td>0</td>\n",
              "      <td>0</td>\n",
              "      <td>0</td>\n",
              "      <td>0</td>\n",
              "      <td>0</td>\n",
              "      <td>0</td>\n",
              "      <td>0</td>\n",
              "      <td>1</td>\n",
              "      <td>0</td>\n",
              "      <td>0</td>\n",
              "      <td>0</td>\n",
              "      <td>1</td>\n",
              "      <td>0</td>\n",
              "      <td>0</td>\n",
              "      <td>1</td>\n",
              "      <td>0</td>\n",
              "      <td>1</td>\n",
              "      <td>0</td>\n",
              "      <td>1</td>\n",
              "      <td>0</td>\n",
              "      <td>1</td>\n",
              "      <td>0</td>\n",
              "      <td>1</td>\n",
              "      <td>0</td>\n",
              "      <td>0</td>\n",
              "      <td>0</td>\n",
              "      <td>0</td>\n",
              "      <td>0</td>\n",
              "      <td>1</td>\n",
              "      <td>0</td>\n",
              "      <td>0</td>\n",
              "      <td>0</td>\n",
              "      <td>0</td>\n",
              "      <td>0</td>\n",
              "      <td>0</td>\n",
              "      <td>0</td>\n",
              "      <td>0</td>\n",
              "      <td>1</td>\n",
              "      <td>0</td>\n",
              "      <td>0</td>\n",
              "      <td>0</td>\n",
              "      <td>1</td>\n",
              "      <td>1</td>\n",
              "      <td>1</td>\n",
              "      <td>1</td>\n",
              "    </tr>\n",
              "  </tbody>\n",
              "</table>\n",
              "</div>"
            ],
            "text/plain": [
              "      age  balance  day  ...  NaiveBayes  KNN  Gradient Boosting Classifier\n",
              "304    46      536   16  ...           0    0                             0\n",
              "5524   25      148   23  ...           0    1                             1\n",
              "3033   68     1443   21  ...           1    1                             1\n",
              "3067   87     2190   12  ...           1    0                             1\n",
              "3155   35      415    4  ...           1    1                             1\n",
              "\n",
              "[5 rows x 54 columns]"
            ]
          },
          "metadata": {
            "tags": []
          },
          "execution_count": 150
        }
      ]
    },
    {
      "cell_type": "markdown",
      "metadata": {
        "id": "UpWPrbgLIPq6"
      },
      "source": [
        "## **Conclusion**\n",
        "\n",
        "**Gradient Boosting Classifier** is the best model out of 3 based on Accuracy, Precision, Recall, F1 Score, and ROC Curve"
      ]
    },
    {
      "cell_type": "markdown",
      "metadata": {
        "id": "MJgvCNJFL1xc"
      },
      "source": [
        "## **References**\n",
        "1. https://www.kaggle.com/janiobachmann/bank-marketing-campaign-opening-a-term-deposit\n",
        "\n",
        "2. https://www.kaggle.com/goldens/classification-review-with-python\n",
        "\n",
        "3. https://colab.research.google.com/github/rc-dbe/dti/blob/main/002_classification.ipynb#scrollTo=XBpuFXsXxoOW"
      ]
    }
  ]
}