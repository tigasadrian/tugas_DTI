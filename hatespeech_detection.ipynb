{
  "nbformat": 4,
  "nbformat_minor": 0,
  "metadata": {
    "colab": {
      "name": "hatespeech_detection",
      "provenance": [],
      "collapsed_sections": [
        "Q5GhtTh4oc9F",
        "wrkmumH0li1Y",
        "uUUwp0REnOWF",
        "keeBihTUnVu7",
        "eddp_FlznYvs"
      ],
      "authorship_tag": "ABX9TyOHIxUUc05ieaoUktBE8OO3"
    },
    "kernelspec": {
      "name": "python3",
      "display_name": "Python 3"
    }
  },
  "cells": [
    {
      "cell_type": "markdown",
      "metadata": {
        "id": "-UpCH2TG5Gz1"
      },
      "source": [
        "# **Deteksi Hate Speech**\n",
        "\n",
        "**Tigas Adrian Wahyuindrajati**\n",
        "\n",
        "**DS0127**\n",
        "\n",
        "**An assignment of Telkom Digital Incubator 2020**\n",
        "## **Outline**\n",
        "\n",
        "1. Exploratory Data Analysis\n",
        "2. Preprocessing\n",
        "  * Menyeimbangkan label\n",
        "  * Data Cleaning, Stemming & Stopwords removal\n",
        "  * Vektorisasi\n",
        "3. Klasifikasi (Random Forest, Gradient Boosting, Neural Network)\n",
        "  * Pemodelan\n",
        "  * Evaluasi Model\n",
        "4. Kesimpulan\n",
        "\n"
      ]
    },
    {
      "cell_type": "code",
      "metadata": {
        "colab": {
          "base_uri": "https://localhost:8080/"
        },
        "id": "cWwscCii0Nmt",
        "outputId": "1f392888-0b28-49fa-abbb-186165dfc8ce"
      },
      "source": [
        "! pip install Sastrawi"
      ],
      "execution_count": 1,
      "outputs": [
        {
          "output_type": "stream",
          "text": [
            "Collecting Sastrawi\n",
            "\u001b[?25l  Downloading https://files.pythonhosted.org/packages/6f/4b/bab676953da3103003730b8fcdfadbdd20f333d4add10af949dd5c51e6ed/Sastrawi-1.0.1-py2.py3-none-any.whl (209kB)\n",
            "\r\u001b[K     |█▋                              | 10kB 12.1MB/s eta 0:00:01\r\u001b[K     |███▏                            | 20kB 7.6MB/s eta 0:00:01\r\u001b[K     |████▊                           | 30kB 6.1MB/s eta 0:00:01\r\u001b[K     |██████▎                         | 40kB 3.1MB/s eta 0:00:01\r\u001b[K     |███████▉                        | 51kB 3.8MB/s eta 0:00:01\r\u001b[K     |█████████▍                      | 61kB 4.1MB/s eta 0:00:01\r\u001b[K     |███████████                     | 71kB 4.4MB/s eta 0:00:01\r\u001b[K     |████████████▌                   | 81kB 4.6MB/s eta 0:00:01\r\u001b[K     |██████████████                  | 92kB 5.0MB/s eta 0:00:01\r\u001b[K     |███████████████▋                | 102kB 5.2MB/s eta 0:00:01\r\u001b[K     |█████████████████▏              | 112kB 5.2MB/s eta 0:00:01\r\u001b[K     |██████████████████▊             | 122kB 5.2MB/s eta 0:00:01\r\u001b[K     |████████████████████▎           | 133kB 5.2MB/s eta 0:00:01\r\u001b[K     |█████████████████████▉          | 143kB 5.2MB/s eta 0:00:01\r\u001b[K     |███████████████████████▍        | 153kB 5.2MB/s eta 0:00:01\r\u001b[K     |█████████████████████████       | 163kB 5.2MB/s eta 0:00:01\r\u001b[K     |██████████████████████████▋     | 174kB 5.2MB/s eta 0:00:01\r\u001b[K     |████████████████████████████▏   | 184kB 5.2MB/s eta 0:00:01\r\u001b[K     |█████████████████████████████▊  | 194kB 5.2MB/s eta 0:00:01\r\u001b[K     |███████████████████████████████▎| 204kB 5.2MB/s eta 0:00:01\r\u001b[K     |████████████████████████████████| 215kB 5.2MB/s \n",
            "\u001b[?25hInstalling collected packages: Sastrawi\n",
            "Successfully installed Sastrawi-1.0.1\n"
          ],
          "name": "stdout"
        }
      ]
    },
    {
      "cell_type": "code",
      "metadata": {
        "id": "Bh2KQzJ0t7Vf",
        "colab": {
          "base_uri": "https://localhost:8080/"
        },
        "outputId": "979dc9a6-f51e-4601-d20e-c225826abaff"
      },
      "source": [
        "import pandas as pd\n",
        "import numpy as np\n",
        "\n",
        "import matplotlib.pyplot as plt\n",
        "import seaborn as sns\n",
        "from wordcloud import WordCloud\n",
        "\n",
        "import nltk\n",
        "nltk.download('stopwords')\n",
        "from nltk.tokenize import word_tokenize\n",
        "from nltk.corpus import stopwords\n",
        "from Sastrawi.Stemmer.StemmerFactory import StemmerFactory\n",
        "from Sastrawi.StopWordRemover.StopWordRemoverFactory import StopWordRemoverFactory\n",
        "import re\n",
        "\n",
        "from sklearn.feature_extraction.text import TfidfVectorizer\n",
        "from sklearn.feature_extraction.text import CountVectorizer\n",
        "\n",
        "from sklearn.preprocessing import MinMaxScaler\n",
        "from sklearn import model_selection, preprocessing\n",
        "from sklearn.model_selection import train_test_split\n",
        "from sklearn.preprocessing import LabelEncoder\n",
        "\n",
        "from sklearn.ensemble import RandomForestClassifier\n",
        "from sklearn.naive_bayes import MultinomialNB\n",
        "from sklearn.ensemble import GradientBoostingClassifier\n",
        "from sklearn.neural_network import MLPClassifier\n",
        "\n",
        "from sklearn.metrics import confusion_matrix\n",
        "from sklearn import metrics\n",
        "\n",
        "import warnings\n",
        "warnings.filterwarnings(\"ignore\")"
      ],
      "execution_count": 2,
      "outputs": [
        {
          "output_type": "stream",
          "text": [
            "[nltk_data] Downloading package stopwords to /root/nltk_data...\n",
            "[nltk_data]   Unzipping corpora/stopwords.zip.\n"
          ],
          "name": "stdout"
        }
      ]
    },
    {
      "cell_type": "markdown",
      "metadata": {
        "id": "Q5GhtTh4oc9F"
      },
      "source": [
        "## **Exploratory Data Analysis**\n",
        "1. Dataset terdiri dari 713 tweet\n",
        "2. Dataset telah diberi label:\n",
        "  - Non_HS : tweet yang tidak mengandung hate speech\n",
        "  - HS : tweet yang mengandung hate speech\n",
        "3. Tidak ada value kosong pada data\n",
        "4. Jumlah tweet Non_HS dan HS masih tidak seimbang, tweet Non_HS berjumlah 453 tweet (63.53%) sedangkan tweet HS berjumlah 260 tweet (36.47%)\n",
        "5. "
      ]
    },
    {
      "cell_type": "code",
      "metadata": {
        "colab": {
          "base_uri": "https://localhost:8080/",
          "height": 411
        },
        "id": "pWXgruh-uDbI",
        "outputId": "158583db-531e-4b84-fbce-2da8a29cedc2"
      },
      "source": [
        "df = pd.read_csv('https://raw.githubusercontent.com/tigasadrian/tugas_DTI/master/data/IDHSD_RIO_unbalanced_713_2017.csv' , sep=\",\" , encoding = \"ISO-8859-1\")\n",
        "df"
      ],
      "execution_count": 3,
      "outputs": [
        {
          "output_type": "execute_result",
          "data": {
            "text/html": [
              "<div>\n",
              "<style scoped>\n",
              "    .dataframe tbody tr th:only-of-type {\n",
              "        vertical-align: middle;\n",
              "    }\n",
              "\n",
              "    .dataframe tbody tr th {\n",
              "        vertical-align: top;\n",
              "    }\n",
              "\n",
              "    .dataframe thead th {\n",
              "        text-align: right;\n",
              "    }\n",
              "</style>\n",
              "<table border=\"1\" class=\"dataframe\">\n",
              "  <thead>\n",
              "    <tr style=\"text-align: right;\">\n",
              "      <th></th>\n",
              "      <th>Label</th>\n",
              "      <th>Tweet</th>\n",
              "    </tr>\n",
              "  </thead>\n",
              "  <tbody>\n",
              "    <tr>\n",
              "      <th>0</th>\n",
              "      <td>Non_HS</td>\n",
              "      <td>RT @spardaxyz: Fadli Zon Minta Mendagri Segera...</td>\n",
              "    </tr>\n",
              "    <tr>\n",
              "      <th>1</th>\n",
              "      <td>Non_HS</td>\n",
              "      <td>RT @baguscondromowo: Mereka terus melukai aksi...</td>\n",
              "    </tr>\n",
              "    <tr>\n",
              "      <th>2</th>\n",
              "      <td>Non_HS</td>\n",
              "      <td>Sylvi: bagaimana gurbernur melakukan kekerasan...</td>\n",
              "    </tr>\n",
              "    <tr>\n",
              "      <th>3</th>\n",
              "      <td>Non_HS</td>\n",
              "      <td>Ahmad Dhani Tak Puas Debat Pilkada, Masalah Ja...</td>\n",
              "    </tr>\n",
              "    <tr>\n",
              "      <th>4</th>\n",
              "      <td>Non_HS</td>\n",
              "      <td>RT @lisdaulay28: Waspada KTP palsu.....kawal P...</td>\n",
              "    </tr>\n",
              "    <tr>\n",
              "      <th>...</th>\n",
              "      <td>...</td>\n",
              "      <td>...</td>\n",
              "    </tr>\n",
              "    <tr>\n",
              "      <th>708</th>\n",
              "      <td>HS</td>\n",
              "      <td>Muka Si BABi Ahok Tuh Yg Mirip SERBET Lantai.....</td>\n",
              "    </tr>\n",
              "    <tr>\n",
              "      <th>709</th>\n",
              "      <td>HS</td>\n",
              "      <td>Betul bang hancurkan merka bang, musnahkan chi...</td>\n",
              "    </tr>\n",
              "    <tr>\n",
              "      <th>710</th>\n",
              "      <td>HS</td>\n",
              "      <td>Sapa Yg bilang Ahok anti korupsi!?, klo grombo...</td>\n",
              "    </tr>\n",
              "    <tr>\n",
              "      <th>711</th>\n",
              "      <td>HS</td>\n",
              "      <td>Gw juga ngimpi SENTILIN BIJI BABI AHOK, pcetar...</td>\n",
              "    </tr>\n",
              "    <tr>\n",
              "      <th>712</th>\n",
              "      <td>HS</td>\n",
              "      <td>Mudah2an gw ketemu sama SI BABI IWAN BOPENG DI...</td>\n",
              "    </tr>\n",
              "  </tbody>\n",
              "</table>\n",
              "<p>713 rows × 2 columns</p>\n",
              "</div>"
            ],
            "text/plain": [
              "      Label                                              Tweet\n",
              "0    Non_HS  RT @spardaxyz: Fadli Zon Minta Mendagri Segera...\n",
              "1    Non_HS  RT @baguscondromowo: Mereka terus melukai aksi...\n",
              "2    Non_HS  Sylvi: bagaimana gurbernur melakukan kekerasan...\n",
              "3    Non_HS  Ahmad Dhani Tak Puas Debat Pilkada, Masalah Ja...\n",
              "4    Non_HS  RT @lisdaulay28: Waspada KTP palsu.....kawal P...\n",
              "..      ...                                                ...\n",
              "708      HS  Muka Si BABi Ahok Tuh Yg Mirip SERBET Lantai.....\n",
              "709      HS  Betul bang hancurkan merka bang, musnahkan chi...\n",
              "710      HS  Sapa Yg bilang Ahok anti korupsi!?, klo grombo...\n",
              "711      HS  Gw juga ngimpi SENTILIN BIJI BABI AHOK, pcetar...\n",
              "712      HS  Mudah2an gw ketemu sama SI BABI IWAN BOPENG DI...\n",
              "\n",
              "[713 rows x 2 columns]"
            ]
          },
          "metadata": {
            "tags": []
          },
          "execution_count": 3
        }
      ]
    },
    {
      "cell_type": "code",
      "metadata": {
        "colab": {
          "base_uri": "https://localhost:8080/"
        },
        "id": "cVbdGDGKAKlg",
        "outputId": "4de0f99a-8011-4ad8-8707-7e39ec697710"
      },
      "source": [
        "df.isnull().values.any()"
      ],
      "execution_count": 4,
      "outputs": [
        {
          "output_type": "execute_result",
          "data": {
            "text/plain": [
              "False"
            ]
          },
          "metadata": {
            "tags": []
          },
          "execution_count": 4
        }
      ]
    },
    {
      "cell_type": "code",
      "metadata": {
        "colab": {
          "base_uri": "https://localhost:8080/"
        },
        "id": "kUY_Hqr3AmX9",
        "outputId": "095ae0bc-3372-410e-a1a0-028b4d4455c7"
      },
      "source": [
        "df.Label.value_counts()"
      ],
      "execution_count": 5,
      "outputs": [
        {
          "output_type": "execute_result",
          "data": {
            "text/plain": [
              "Non_HS    453\n",
              "HS        260\n",
              "Name: Label, dtype: int64"
            ]
          },
          "metadata": {
            "tags": []
          },
          "execution_count": 5
        }
      ]
    },
    {
      "cell_type": "code",
      "metadata": {
        "colab": {
          "base_uri": "https://localhost:8080/",
          "height": 541
        },
        "id": "CYsWyk-hpCwA",
        "outputId": "c21201fe-08b1-4d5c-f705-a8845bbc73c2"
      },
      "source": [
        "labels = ['Non_HS', 'HS']\n",
        "size = df['Label'].value_counts()\n",
        "colors = ['pink', 'lightblue']\n",
        "explode = [0, 0.1]\n",
        "\n",
        "plt.rcParams['figure.figsize'] = (9, 9)\n",
        "plt.pie(size, colors = colors, explode = explode, labels = labels, shadow = True, autopct = '%.2f%%')\n",
        "plt.title('Label', fontsize = 20)\n",
        "plt.axis('off')\n",
        "plt.legend()\n",
        "plt.show()"
      ],
      "execution_count": 6,
      "outputs": [
        {
          "output_type": "display_data",
          "data": {
            "image/png": "[encoded data removed]",
            "text/plain": [
              "<Figure size 648x648 with 1 Axes>"
            ]
          },
          "metadata": {
            "tags": []
          }
        }
      ]
    },
    {
      "cell_type": "code",
      "metadata": {
        "colab": {
          "base_uri": "https://localhost:8080/",
          "height": 282
        },
        "id": "a8tB3Fmbtry0",
        "outputId": "288613a5-b4cf-44d1-8979-f731ce196eee"
      },
      "source": [
        "word = df.Tweet[df['Label']=='HS'].astype('string')\n",
        "stop_factory = StopWordRemoverFactory()\n",
        "more_stopword = ['lu', 'hahaha', 'debat', 'dgn', 'apa', 'dengan', 'jgn', 'dgn', 'gapunya', 'aja', 'ga', 'gak', 'tau', 'tukang', 'lo', 'kayak', 'kalau', 'memang', 'sangat', 'suka', 'kayak', 'semua', 'sih', 'jangan', 'banget', 'biar', 'mau', 'punya', 'si', 'Orang', 'klo', 'https', 'ngomong', 'gw', 'nya', 'emang', 'bukan', 'hari', 'bisanya', 'jadi', 'tuh', 'RT', 'yg', 'bela', 'kena', 'jelas', 'paling', 'dong', 'kalo', 'sama', 'CO', 'pilih']\n",
        "stop = stop_factory.get_stop_words()+more_stopword\n",
        "wordcloud = WordCloud(width=400, height=200, max_font_size=75, max_words=75, background_color=\"white\", stopwords=stop, ).generate_from_text(' '.join(word))\n",
        "\n",
        "plt.imshow(wordcloud)\n",
        "plt.axis(\"off\")\n",
        "plt.show()"
      ],
      "execution_count": 7,
      "outputs": [
        {
          "output_type": "display_data",
          "data": {
            "image/png": "[encoded data removed]",
            "text/plain": [
              "<Figure size 648x648 with 1 Axes>"
            ]
          },
          "metadata": {
            "tags": [],
            "needs_background": "light"
          }
        }
      ]
    },
    {
      "cell_type": "markdown",
      "metadata": {
        "id": "tBMGZjGykqhF"
      },
      "source": [
        "## **Preprocessing**\n",
        "1. Menyeimbangkan label (Jumlah tweet HS = Jumlah tweet Non_HS)\n",
        "2. Data Cleaning, Stemming & Stopwords removal\n",
        "3. Vektorisasi"
      ]
    },
    {
      "cell_type": "markdown",
      "metadata": {
        "id": "P1lzm_Z_lSmt"
      },
      "source": [
        "### **Menyeimbangkan label**"
      ]
    },
    {
      "cell_type": "code",
      "metadata": {
        "id": "_GYPiKzPaCnB"
      },
      "source": [
        "df_NonHS = df.loc[df['Label'] == 'Non_HS']\n",
        "df_NonHS = df_NonHS.head(259)\n",
        "df_HS = df.loc[df['Label'] == 'HS']\n",
        "df_HS = df_HS.head(259)"
      ],
      "execution_count": 8,
      "outputs": []
    },
    {
      "cell_type": "code",
      "metadata": {
        "colab": {
          "base_uri": "https://localhost:8080/",
          "height": 411
        },
        "id": "jFDnPyUzaO0o",
        "outputId": "7dc7ed1e-bb4e-4ab2-e901-4b19fcd94169"
      },
      "source": [
        "df_new = df_NonHS.append(df_HS, ignore_index=True)\n",
        "df_new"
      ],
      "execution_count": 9,
      "outputs": [
        {
          "output_type": "execute_result",
          "data": {
            "text/html": [
              "<div>\n",
              "<style scoped>\n",
              "    .dataframe tbody tr th:only-of-type {\n",
              "        vertical-align: middle;\n",
              "    }\n",
              "\n",
              "    .dataframe tbody tr th {\n",
              "        vertical-align: top;\n",
              "    }\n",
              "\n",
              "    .dataframe thead th {\n",
              "        text-align: right;\n",
              "    }\n",
              "</style>\n",
              "<table border=\"1\" class=\"dataframe\">\n",
              "  <thead>\n",
              "    <tr style=\"text-align: right;\">\n",
              "      <th></th>\n",
              "      <th>Label</th>\n",
              "      <th>Tweet</th>\n",
              "    </tr>\n",
              "  </thead>\n",
              "  <tbody>\n",
              "    <tr>\n",
              "      <th>0</th>\n",
              "      <td>Non_HS</td>\n",
              "      <td>RT @spardaxyz: Fadli Zon Minta Mendagri Segera...</td>\n",
              "    </tr>\n",
              "    <tr>\n",
              "      <th>1</th>\n",
              "      <td>Non_HS</td>\n",
              "      <td>RT @baguscondromowo: Mereka terus melukai aksi...</td>\n",
              "    </tr>\n",
              "    <tr>\n",
              "      <th>2</th>\n",
              "      <td>Non_HS</td>\n",
              "      <td>Sylvi: bagaimana gurbernur melakukan kekerasan...</td>\n",
              "    </tr>\n",
              "    <tr>\n",
              "      <th>3</th>\n",
              "      <td>Non_HS</td>\n",
              "      <td>Ahmad Dhani Tak Puas Debat Pilkada, Masalah Ja...</td>\n",
              "    </tr>\n",
              "    <tr>\n",
              "      <th>4</th>\n",
              "      <td>Non_HS</td>\n",
              "      <td>RT @lisdaulay28: Waspada KTP palsu.....kawal P...</td>\n",
              "    </tr>\n",
              "    <tr>\n",
              "      <th>...</th>\n",
              "      <td>...</td>\n",
              "      <td>...</td>\n",
              "    </tr>\n",
              "    <tr>\n",
              "      <th>513</th>\n",
              "      <td>HS</td>\n",
              "      <td>Gimana dgn Sumber waras.. Trans Jakarta ko jok...</td>\n",
              "    </tr>\n",
              "    <tr>\n",
              "      <th>514</th>\n",
              "      <td>HS</td>\n",
              "      <td>Muka Si BABi Ahok Tuh Yg Mirip SERBET Lantai.....</td>\n",
              "    </tr>\n",
              "    <tr>\n",
              "      <th>515</th>\n",
              "      <td>HS</td>\n",
              "      <td>Betul bang hancurkan merka bang, musnahkan chi...</td>\n",
              "    </tr>\n",
              "    <tr>\n",
              "      <th>516</th>\n",
              "      <td>HS</td>\n",
              "      <td>Sapa Yg bilang Ahok anti korupsi!?, klo grombo...</td>\n",
              "    </tr>\n",
              "    <tr>\n",
              "      <th>517</th>\n",
              "      <td>HS</td>\n",
              "      <td>Gw juga ngimpi SENTILIN BIJI BABI AHOK, pcetar...</td>\n",
              "    </tr>\n",
              "  </tbody>\n",
              "</table>\n",
              "<p>518 rows × 2 columns</p>\n",
              "</div>"
            ],
            "text/plain": [
              "      Label                                              Tweet\n",
              "0    Non_HS  RT @spardaxyz: Fadli Zon Minta Mendagri Segera...\n",
              "1    Non_HS  RT @baguscondromowo: Mereka terus melukai aksi...\n",
              "2    Non_HS  Sylvi: bagaimana gurbernur melakukan kekerasan...\n",
              "3    Non_HS  Ahmad Dhani Tak Puas Debat Pilkada, Masalah Ja...\n",
              "4    Non_HS  RT @lisdaulay28: Waspada KTP palsu.....kawal P...\n",
              "..      ...                                                ...\n",
              "513      HS  Gimana dgn Sumber waras.. Trans Jakarta ko jok...\n",
              "514      HS  Muka Si BABi Ahok Tuh Yg Mirip SERBET Lantai.....\n",
              "515      HS  Betul bang hancurkan merka bang, musnahkan chi...\n",
              "516      HS  Sapa Yg bilang Ahok anti korupsi!?, klo grombo...\n",
              "517      HS  Gw juga ngimpi SENTILIN BIJI BABI AHOK, pcetar...\n",
              "\n",
              "[518 rows x 2 columns]"
            ]
          },
          "metadata": {
            "tags": []
          },
          "execution_count": 9
        }
      ]
    },
    {
      "cell_type": "markdown",
      "metadata": {
        "id": "wrkmumH0li1Y"
      },
      "source": [
        "### **Data Cleaning, Stemming & Stopwords removal**"
      ]
    },
    {
      "cell_type": "code",
      "metadata": {
        "id": "8uB66m11DxeU"
      },
      "source": [
        "def preprocessing(a,b):\n",
        "    data_fix = []\n",
        "    from nltk.corpus import stopwords\n",
        "    for i in range(len(b)):\n",
        "        text = re.sub('[^a-zA-Z]', ' ', a[i])\n",
        "        # Remove mentions\n",
        "        text = re.sub(r'@[A-Za-z0-9_]+', '', a[i])\n",
        "        # Remove hashtags\n",
        "        text = re.sub(r'#', '', a[i])\n",
        "        # Remove retweets:\n",
        "        text = re.sub(r'RT : ', '', a[i])\n",
        "        # Remove urls\n",
        "        text = re.sub(r'https?:\\/\\/[A-Za-z0-9\\.\\/]+', '', a[i])\n",
        "        #Case Folding\n",
        "        text = text.lower()\n",
        "        #Tokinize\n",
        "        text = text.split()\n",
        "        #Stopword + Stemming\n",
        "        stemmer = StemmerFactory().create_stemmer()        \n",
        "        text = [stemmer.stem(word) for word in text if not word in set(stopwords.words('indonesian'))]\n",
        "        text = [word for word in text if len (word) > 3]\n",
        "        text = ' '.join(text)\n",
        "        data_fix.append(text)\n",
        "    return data_fix"
      ],
      "execution_count": 10,
      "outputs": []
    },
    {
      "cell_type": "code",
      "metadata": {
        "id": "C_04-ImBZ1aX"
      },
      "source": [
        "length = df_new['Label'].tolist()\n",
        "df_cleaned = preprocessing(df_new['Tweet'],length)"
      ],
      "execution_count": 12,
      "outputs": []
    },
    {
      "cell_type": "code",
      "metadata": {
        "colab": {
          "base_uri": "https://localhost:8080/",
          "height": 411
        },
        "id": "Sk3RWerLcl7W",
        "outputId": "33a60ea7-cbd4-47ad-9c90-7453d56f2342"
      },
      "source": [
        "# menampilkan dataset dengan tweet yang telah di-cleaning\n",
        "df_new['Cleaned'] = pd.Series(df_cleaned).values\n",
        "df_new"
      ],
      "execution_count": 13,
      "outputs": [
        {
          "output_type": "execute_result",
          "data": {
            "text/html": [
              "<div>\n",
              "<style scoped>\n",
              "    .dataframe tbody tr th:only-of-type {\n",
              "        vertical-align: middle;\n",
              "    }\n",
              "\n",
              "    .dataframe tbody tr th {\n",
              "        vertical-align: top;\n",
              "    }\n",
              "\n",
              "    .dataframe thead th {\n",
              "        text-align: right;\n",
              "    }\n",
              "</style>\n",
              "<table border=\"1\" class=\"dataframe\">\n",
              "  <thead>\n",
              "    <tr style=\"text-align: right;\">\n",
              "      <th></th>\n",
              "      <th>Label</th>\n",
              "      <th>Tweet</th>\n",
              "      <th>Cleaned</th>\n",
              "    </tr>\n",
              "  </thead>\n",
              "  <tbody>\n",
              "    <tr>\n",
              "      <th>0</th>\n",
              "      <td>Non_HS</td>\n",
              "      <td>RT @spardaxyz: Fadli Zon Minta Mendagri Segera...</td>\n",
              "      <td>spardaxyz fadli mendagri nonaktif ahok gubernu...</td>\n",
              "    </tr>\n",
              "    <tr>\n",
              "      <th>1</th>\n",
              "      <td>Non_HS</td>\n",
              "      <td>RT @baguscondromowo: Mereka terus melukai aksi...</td>\n",
              "      <td>baguscondromowo luka aksi rangka penjara ahok ...</td>\n",
              "    </tr>\n",
              "    <tr>\n",
              "      <th>2</th>\n",
              "      <td>Non_HS</td>\n",
              "      <td>Sylvi: bagaimana gurbernur melakukan kekerasan...</td>\n",
              "      <td>sylvi gurbernur keras perempuan bukti ibu2 fot...</td>\n",
              "    </tr>\n",
              "    <tr>\n",
              "      <th>3</th>\n",
              "      <td>Non_HS</td>\n",
              "      <td>Ahmad Dhani Tak Puas Debat Pilkada, Masalah Ja...</td>\n",
              "      <td>ahmad dhani puas debat pilkada jalan bekas ung...</td>\n",
              "    </tr>\n",
              "    <tr>\n",
              "      <th>4</th>\n",
              "      <td>Non_HS</td>\n",
              "      <td>RT @lisdaulay28: Waspada KTP palsu.....kawal P...</td>\n",
              "      <td>lisdaulay28 waspada palsu kawal pilkada https ...</td>\n",
              "    </tr>\n",
              "    <tr>\n",
              "      <th>...</th>\n",
              "      <td>...</td>\n",
              "      <td>...</td>\n",
              "      <td>...</td>\n",
              "    </tr>\n",
              "    <tr>\n",
              "      <th>513</th>\n",
              "      <td>HS</td>\n",
              "      <td>Gimana dgn Sumber waras.. Trans Jakarta ko jok...</td>\n",
              "      <td>gimana sumber waras trans jakarta jokowi diem ...</td>\n",
              "    </tr>\n",
              "    <tr>\n",
              "      <th>514</th>\n",
              "      <td>HS</td>\n",
              "      <td>Muka Si BABi Ahok Tuh Yg Mirip SERBET Lantai.....</td>\n",
              "      <td>muka babi ahok serbet lantai basuki btp</td>\n",
              "    </tr>\n",
              "    <tr>\n",
              "      <th>515</th>\n",
              "      <td>HS</td>\n",
              "      <td>Betul bang hancurkan merka bang, musnahkan chi...</td>\n",
              "      <td>bang hancur merka bang musnah china babi bumi ...</td>\n",
              "    </tr>\n",
              "    <tr>\n",
              "      <th>516</th>\n",
              "      <td>HS</td>\n",
              "      <td>Sapa Yg bilang Ahok anti korupsi!?, klo grombo...</td>\n",
              "      <td>sapa bilang ahok anti korupsi grombolannya ngo...</td>\n",
              "    </tr>\n",
              "    <tr>\n",
              "      <th>517</th>\n",
              "      <td>HS</td>\n",
              "      <td>Gw juga ngimpi SENTILIN BIJI BABI AHOK, pcetar...</td>\n",
              "      <td>ngimpi sentilin biji babi ahok pcetar pcetar l...</td>\n",
              "    </tr>\n",
              "  </tbody>\n",
              "</table>\n",
              "<p>518 rows × 3 columns</p>\n",
              "</div>"
            ],
            "text/plain": [
              "      Label  ...                                            Cleaned\n",
              "0    Non_HS  ...  spardaxyz fadli mendagri nonaktif ahok gubernu...\n",
              "1    Non_HS  ...  baguscondromowo luka aksi rangka penjara ahok ...\n",
              "2    Non_HS  ...  sylvi gurbernur keras perempuan bukti ibu2 fot...\n",
              "3    Non_HS  ...  ahmad dhani puas debat pilkada jalan bekas ung...\n",
              "4    Non_HS  ...  lisdaulay28 waspada palsu kawal pilkada https ...\n",
              "..      ...  ...                                                ...\n",
              "513      HS  ...  gimana sumber waras trans jakarta jokowi diem ...\n",
              "514      HS  ...            muka babi ahok serbet lantai basuki btp\n",
              "515      HS  ...  bang hancur merka bang musnah china babi bumi ...\n",
              "516      HS  ...  sapa bilang ahok anti korupsi grombolannya ngo...\n",
              "517      HS  ...  ngimpi sentilin biji babi ahok pcetar pcetar l...\n",
              "\n",
              "[518 rows x 3 columns]"
            ]
          },
          "metadata": {
            "tags": []
          },
          "execution_count": 13
        }
      ]
    },
    {
      "cell_type": "markdown",
      "metadata": {
        "id": "0MLrelyIlz9r"
      },
      "source": [
        "### **Vektorisasi**"
      ]
    },
    {
      "cell_type": "code",
      "metadata": {
        "colab": {
          "base_uri": "https://localhost:8080/"
        },
        "id": "geuUEY-5c05w",
        "outputId": "96a7740b-3e88-443f-d247-dfe31215f39f"
      },
      "source": [
        "tfidf_V = TfidfVectorizer()\n",
        "X = df_new['Cleaned']\n",
        "X_vector = tfidf_V.fit_transform(X)\n",
        "X_vector.shape"
      ],
      "execution_count": 14,
      "outputs": [
        {
          "output_type": "execute_result",
          "data": {
            "text/plain": [
              "(518, 1922)"
            ]
          },
          "metadata": {
            "tags": []
          },
          "execution_count": 14
        }
      ]
    },
    {
      "cell_type": "code",
      "metadata": {
        "id": "v83xhUmjfHqN"
      },
      "source": [
        "le = LabelEncoder()\n",
        "y = le.fit_transform(df_new['Label'])"
      ],
      "execution_count": 15,
      "outputs": []
    },
    {
      "cell_type": "code",
      "metadata": {
        "id": "dNxk7Z4CfU8Y"
      },
      "source": [
        "X_train, X_test, y_train, y_test = train_test_split(X_vector, y, test_size=0.3, random_state=0)"
      ],
      "execution_count": 16,
      "outputs": []
    },
    {
      "cell_type": "markdown",
      "metadata": {
        "id": "bWG_hzQRmJH6"
      },
      "source": [
        "## **Klasifikasi**\n",
        "menggunakan 3 jenis model:\n",
        "  1. Random Forest\n",
        "  2. Gradient Boosting\n",
        "  3. Neural Network (Multilayer Perceptron)"
      ]
    },
    {
      "cell_type": "markdown",
      "metadata": {
        "id": "P63mAHyQmtFu"
      },
      "source": [
        "### **Random Forest**"
      ]
    },
    {
      "cell_type": "markdown",
      "metadata": {
        "id": "sQQQBdjpnBpM"
      },
      "source": [
        "#### **Pemodelan**"
      ]
    },
    {
      "cell_type": "code",
      "metadata": {
        "id": "qh42GFmSgnAl"
      },
      "source": [
        "# pemodelan\n",
        "rfc= RandomForestClassifier()\n",
        "rfc.fit(X_train, y_train)\n",
        "\n",
        "# data testing\n",
        "y_pred_rfc = rfc.predict(X_test)"
      ],
      "execution_count": 17,
      "outputs": []
    },
    {
      "cell_type": "markdown",
      "metadata": {
        "id": "RuQz0ragnEUt"
      },
      "source": [
        "#### **Evaluasi Model**"
      ]
    },
    {
      "cell_type": "code",
      "metadata": {
        "colab": {
          "base_uri": "https://localhost:8080/"
        },
        "id": "gVzz-Gy4hCvI",
        "outputId": "48c49bee-eb3b-447c-c8a5-4ebaa1bc42c8"
      },
      "source": [
        "# confusion matrix\n",
        "cm_rfc = metrics.confusion_matrix(y_test, y_pred_rfc)\n",
        "cm_rfc"
      ],
      "execution_count": 18,
      "outputs": [
        {
          "output_type": "execute_result",
          "data": {
            "text/plain": [
              "array([[44, 30],\n",
              "       [10, 72]])"
            ]
          },
          "metadata": {
            "tags": []
          },
          "execution_count": 18
        }
      ]
    },
    {
      "cell_type": "code",
      "metadata": {
        "colab": {
          "base_uri": "https://localhost:8080/"
        },
        "id": "rs-Wk1vghnEI",
        "outputId": "cda96657-f08a-4afe-d603-e116b184c3af"
      },
      "source": [
        "# akurasi model\n",
        "acc_rfc = metrics.accuracy_score(y_test, y_pred_rfc)\n",
        "print('Accuracy:', acc_rfc)"
      ],
      "execution_count": 19,
      "outputs": [
        {
          "output_type": "stream",
          "text": [
            "Accuracy: 0.7435897435897436\n"
          ],
          "name": "stdout"
        }
      ]
    },
    {
      "cell_type": "markdown",
      "metadata": {
        "id": "o_zHNK-0nLKV"
      },
      "source": [
        "### **Gradient Boosting**"
      ]
    },
    {
      "cell_type": "markdown",
      "metadata": {
        "id": "uUUwp0REnOWF"
      },
      "source": [
        "#### **Pemodelan**"
      ]
    },
    {
      "cell_type": "code",
      "metadata": {
        "id": "97AudxF7h89L"
      },
      "source": [
        "# modeling\n",
        "gbc = GradientBoostingClassifier()\n",
        "gbc.fit(X_train, y_train)\n",
        "\n",
        "# predict to test data\n",
        "y_pred_gbc = gbc.predict(X_test)"
      ],
      "execution_count": 20,
      "outputs": []
    },
    {
      "cell_type": "markdown",
      "metadata": {
        "id": "8rVFKlKqnQ3U"
      },
      "source": [
        "#### **Evaluasi Model**"
      ]
    },
    {
      "cell_type": "code",
      "metadata": {
        "colab": {
          "base_uri": "https://localhost:8080/"
        },
        "id": "xOtqtwtCikIq",
        "outputId": "7cdebc80-75e8-4edb-f76e-b436dfec4ea9"
      },
      "source": [
        "cm_gbc = metrics.confusion_matrix(y_test, y_pred_gbc)\n",
        "cm_gbc"
      ],
      "execution_count": 21,
      "outputs": [
        {
          "output_type": "execute_result",
          "data": {
            "text/plain": [
              "array([[48, 26],\n",
              "       [ 8, 74]])"
            ]
          },
          "metadata": {
            "tags": []
          },
          "execution_count": 21
        }
      ]
    },
    {
      "cell_type": "code",
      "metadata": {
        "colab": {
          "base_uri": "https://localhost:8080/"
        },
        "id": "JFLAKncyiWoP",
        "outputId": "2f701d37-6ac9-4d23-da00-391efed2f378"
      },
      "source": [
        "acc_gbc = metrics.accuracy_score(y_test, y_pred_gbc)\n",
        "print('Accuracy:', acc_gbc)"
      ],
      "execution_count": 22,
      "outputs": [
        {
          "output_type": "stream",
          "text": [
            "Accuracy: 0.782051282051282\n"
          ],
          "name": "stdout"
        }
      ]
    },
    {
      "cell_type": "markdown",
      "metadata": {
        "id": "keeBihTUnVu7"
      },
      "source": [
        "### **Neural Network**"
      ]
    },
    {
      "cell_type": "markdown",
      "metadata": {
        "id": "eddp_FlznYvs"
      },
      "source": [
        "#### **Pemodelan**"
      ]
    },
    {
      "cell_type": "code",
      "metadata": {
        "id": "Z62VVhf0i8N6"
      },
      "source": [
        "# modeling\n",
        "mlp = MLPClassifier()\n",
        "mlp.fit(X_train, y_train)\n",
        "\n",
        "# predict to test data\n",
        "y_pred_mlp = mlp.predict(X_test)"
      ],
      "execution_count": 23,
      "outputs": []
    },
    {
      "cell_type": "markdown",
      "metadata": {
        "id": "Z2rkGWpSndxi"
      },
      "source": [
        "#### **Evaluasi Model**"
      ]
    },
    {
      "cell_type": "code",
      "metadata": {
        "colab": {
          "base_uri": "https://localhost:8080/"
        },
        "id": "n_LafaV_jO4N",
        "outputId": "d18a5a77-b92d-4b66-aceb-bcbb7dfa058f"
      },
      "source": [
        "cm_mlp = metrics.confusion_matrix(y_test, y_pred_mlp)\n",
        "cm_mlp"
      ],
      "execution_count": 24,
      "outputs": [
        {
          "output_type": "execute_result",
          "data": {
            "text/plain": [
              "array([[56, 18],\n",
              "       [17, 65]])"
            ]
          },
          "metadata": {
            "tags": []
          },
          "execution_count": 24
        }
      ]
    },
    {
      "cell_type": "code",
      "metadata": {
        "colab": {
          "base_uri": "https://localhost:8080/"
        },
        "id": "Nd-e9q0djaiY",
        "outputId": "ad78634e-9ff0-4584-97e4-d8089fca8fdf"
      },
      "source": [
        "acc_mlp = metrics.accuracy_score(y_test, y_pred_mlp)\n",
        "print('Accuracy:', acc_mlp)"
      ],
      "execution_count": 25,
      "outputs": [
        {
          "output_type": "stream",
          "text": [
            "Accuracy: 0.7756410256410257\n"
          ],
          "name": "stdout"
        }
      ]
    },
    {
      "cell_type": "markdown",
      "metadata": {
        "id": "-ZKkOJOtnlec"
      },
      "source": [
        "## **Kesimpulan**\n",
        "Model dengan akurasi tertinggi adalah Gradient Boosting dengan akurasi 78%"
      ]
    },
    {
      "cell_type": "code",
      "metadata": {
        "colab": {
          "base_uri": "https://localhost:8080/"
        },
        "id": "S8vrdHuBn1--",
        "outputId": "f1f62a28-96fb-41dd-ab3e-34f0b8816a4b"
      },
      "source": [
        "print('Random Forest Accuracy:', acc_rfc)\n",
        "print('Gradient Boosting Accuracy:', acc_gbc)\n",
        "print('Neural Network Accuracy:', acc_mlp)"
      ],
      "execution_count": 26,
      "outputs": [
        {
          "output_type": "stream",
          "text": [
            "Random Forest Accuracy: 0.7435897435897436\n",
            "Gradient Boosting Accuracy: 0.782051282051282\n",
            "Neural Network Accuracy: 0.7756410256410257\n"
          ],
          "name": "stdout"
        }
      ]
    },
    {
      "cell_type": "markdown",
      "metadata": {
        "id": "0MsoIlJc4mEk"
      },
      "source": [
        "# **Referensi**\n",
        "1. https://github.com/ialfina/id-hatespeech-detection\n",
        "2. https://github.com/tigasadrian/tugas_DTI/blob/master/clustering.ipynb\n",
        "3. https://github.com/tigasadrian/tugas_DTI/blob/master/classification.ipynb"
      ]
    }
  ]
}