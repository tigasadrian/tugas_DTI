{
  "nbformat": 4,
  "nbformat_minor": 0,
  "metadata": {
    "colab": {
      "name": "hatespeech_detection",
      "provenance": [],
      "collapsed_sections": [
        "Q5GhtTh4oc9F",
        "wrkmumH0li1Y",
        "uUUwp0REnOWF",
        "keeBihTUnVu7",
        "eddp_FlznYvs"
      ],
      "authorship_tag": "ABX9TyMfReSQOE3Itxgb0vnSp2HH"
    },
    "kernelspec": {
      "name": "python3",
      "display_name": "Python 3"
    }
  },
  "cells": [
    {
      "cell_type": "markdown",
      "metadata": {
        "id": "-UpCH2TG5Gz1"
      },
      "source": [
        "# **Deteksi Hate Speech**\n",
        "\n",
        "**Tigas Adrian Wahyuindrajati**\n",
        "\n",
        "**DS0127**\n",
        "\n",
        "**An assignment of Telkom Digital Incubator 2020**\n",
        "## **Outline**\n",
        "\n",
        "1. Exploratory Data Analysis\n",
        "2. Preprocessing\n",
        "  * Menyeimbangkan label\n",
        "  * Data Cleaning, Stemming & Stopwords removal\n",
        "  * Vektorisasi\n",
        "3. Klasifikasi (Random Forest, Gradient Boosting, Neural Network)\n",
        "  * Pemodelan\n",
        "  * Evaluasi Model\n",
        "4. Kesimpulan\n",
        "\n"
      ]
    },
    {
      "cell_type": "code",
      "metadata": {
        "colab": {
          "base_uri": "https://localhost:8080/"
        },
        "id": "cWwscCii0Nmt",
        "outputId": "be9e2b60-1482-432f-b480-939edf838c23"
      },
      "source": [
        "! pip install Sastrawi"
      ],
      "execution_count": 132,
      "outputs": [
        {
          "output_type": "stream",
          "text": [
            "Requirement already satisfied: Sastrawi in /usr/local/lib/python3.6/dist-packages (1.0.1)\n"
          ],
          "name": "stdout"
        }
      ]
    },
    {
      "cell_type": "code",
      "metadata": {
        "id": "Bh2KQzJ0t7Vf",
        "colab": {
          "base_uri": "https://localhost:8080/"
        },
        "outputId": "2ebad11f-ffc3-4bdd-ea81-565b821f470a"
      },
      "source": [
        "import pandas as pd\n",
        "import numpy as np\n",
        "\n",
        "import matplotlib.pyplot as plt\n",
        "import seaborn as sns\n",
        "from wordcloud import WordCloud\n",
        "\n",
        "import nltk\n",
        "nltk.download('stopwords')\n",
        "from nltk.tokenize import word_tokenize\n",
        "from nltk.corpus import stopwords\n",
        "from Sastrawi.Stemmer.StemmerFactory import StemmerFactory\n",
        "from Sastrawi.StopWordRemover.StopWordRemoverFactory import StopWordRemoverFactory\n",
        "import re\n",
        "\n",
        "from sklearn.feature_extraction.text import TfidfVectorizer\n",
        "from sklearn.feature_extraction.text import CountVectorizer\n",
        "\n",
        "from sklearn.preprocessing import MinMaxScaler\n",
        "from sklearn import model_selection, preprocessing\n",
        "from sklearn.model_selection import train_test_split\n",
        "from sklearn.preprocessing import LabelEncoder\n",
        "\n",
        "from sklearn.ensemble import RandomForestClassifier\n",
        "from sklearn.naive_bayes import MultinomialNB\n",
        "from sklearn.ensemble import GradientBoostingClassifier\n",
        "from sklearn.neural_network import MLPClassifier\n",
        "\n",
        "from sklearn.metrics import confusion_matrix\n",
        "from sklearn import metrics\n",
        "\n",
        "import warnings\n",
        "warnings.filterwarnings(\"ignore\")"
      ],
      "execution_count": 152,
      "outputs": [
        {
          "output_type": "stream",
          "text": [
            "[nltk_data] Downloading package stopwords to /root/nltk_data...\n",
            "[nltk_data]   Package stopwords is already up-to-date!\n"
          ],
          "name": "stdout"
        }
      ]
    },
    {
      "cell_type": "markdown",
      "metadata": {
        "id": "Q5GhtTh4oc9F"
      },
      "source": [
        "## **Exploratory Data Analysis**\n",
        "1. Dataset terdiri dari 713 tweet\n",
        "2. Dataset telah diberi label:\n",
        "  - Non_HS : tweet yang tidak mengandung hate speech\n",
        "  - HS : tweet yang mengandung hate speech\n",
        "3. Tidak ada value kosong pada data\n",
        "4. Jumlah tweet Non_HS dan HS masih tidak seimbang, tweet Non_HS berjumlah 453 tweet (63.53%) sedangkan tweet HS berjumlah 260 tweet (36.47%)\n",
        "5. "
      ]
    },
    {
      "cell_type": "code",
      "metadata": {
        "colab": {
          "base_uri": "https://localhost:8080/",
          "height": 0
        },
        "id": "pWXgruh-uDbI",
        "outputId": "68e9404a-28a7-494c-f0f3-e8636e6019c7"
      },
      "source": [
        "df = pd.read_csv('https://raw.githubusercontent.com/tigasadrian/tugas_DTI/master/data/IDHSD_RIO_unbalanced_713_2017.csv' , sep=\",\" , encoding = \"ISO-8859-1\")\n",
        "df"
      ],
      "execution_count": 134,
      "outputs": [
        {
          "output_type": "execute_result",
          "data": {
            "text/html": [
              "<div>\n",
              "<style scoped>\n",
              "    .dataframe tbody tr th:only-of-type {\n",
              "        vertical-align: middle;\n",
              "    }\n",
              "\n",
              "    .dataframe tbody tr th {\n",
              "        vertical-align: top;\n",
              "    }\n",
              "\n",
              "    .dataframe thead th {\n",
              "        text-align: right;\n",
              "    }\n",
              "</style>\n",
              "<table border=\"1\" class=\"dataframe\">\n",
              "  <thead>\n",
              "    <tr style=\"text-align: right;\">\n",
              "      <th></th>\n",
              "      <th>Label</th>\n",
              "      <th>Tweet</th>\n",
              "    </tr>\n",
              "  </thead>\n",
              "  <tbody>\n",
              "    <tr>\n",
              "      <th>0</th>\n",
              "      <td>Non_HS</td>\n",
              "      <td>RT @spardaxyz: Fadli Zon Minta Mendagri Segera...</td>\n",
              "    </tr>\n",
              "    <tr>\n",
              "      <th>1</th>\n",
              "      <td>Non_HS</td>\n",
              "      <td>RT @baguscondromowo: Mereka terus melukai aksi...</td>\n",
              "    </tr>\n",
              "    <tr>\n",
              "      <th>2</th>\n",
              "      <td>Non_HS</td>\n",
              "      <td>Sylvi: bagaimana gurbernur melakukan kekerasan...</td>\n",
              "    </tr>\n",
              "    <tr>\n",
              "      <th>3</th>\n",
              "      <td>Non_HS</td>\n",
              "      <td>Ahmad Dhani Tak Puas Debat Pilkada, Masalah Ja...</td>\n",
              "    </tr>\n",
              "    <tr>\n",
              "      <th>4</th>\n",
              "      <td>Non_HS</td>\n",
              "      <td>RT @lisdaulay28: Waspada KTP palsu.....kawal P...</td>\n",
              "    </tr>\n",
              "    <tr>\n",
              "      <th>...</th>\n",
              "      <td>...</td>\n",
              "      <td>...</td>\n",
              "    </tr>\n",
              "    <tr>\n",
              "      <th>708</th>\n",
              "      <td>HS</td>\n",
              "      <td>Muka Si BABi Ahok Tuh Yg Mirip SERBET Lantai.....</td>\n",
              "    </tr>\n",
              "    <tr>\n",
              "      <th>709</th>\n",
              "      <td>HS</td>\n",
              "      <td>Betul bang hancurkan merka bang, musnahkan chi...</td>\n",
              "    </tr>\n",
              "    <tr>\n",
              "      <th>710</th>\n",
              "      <td>HS</td>\n",
              "      <td>Sapa Yg bilang Ahok anti korupsi!?, klo grombo...</td>\n",
              "    </tr>\n",
              "    <tr>\n",
              "      <th>711</th>\n",
              "      <td>HS</td>\n",
              "      <td>Gw juga ngimpi SENTILIN BIJI BABI AHOK, pcetar...</td>\n",
              "    </tr>\n",
              "    <tr>\n",
              "      <th>712</th>\n",
              "      <td>HS</td>\n",
              "      <td>Mudah2an gw ketemu sama SI BABI IWAN BOPENG DI...</td>\n",
              "    </tr>\n",
              "  </tbody>\n",
              "</table>\n",
              "<p>713 rows × 2 columns</p>\n",
              "</div>"
            ],
            "text/plain": [
              "      Label                                              Tweet\n",
              "0    Non_HS  RT @spardaxyz: Fadli Zon Minta Mendagri Segera...\n",
              "1    Non_HS  RT @baguscondromowo: Mereka terus melukai aksi...\n",
              "2    Non_HS  Sylvi: bagaimana gurbernur melakukan kekerasan...\n",
              "3    Non_HS  Ahmad Dhani Tak Puas Debat Pilkada, Masalah Ja...\n",
              "4    Non_HS  RT @lisdaulay28: Waspada KTP palsu.....kawal P...\n",
              "..      ...                                                ...\n",
              "708      HS  Muka Si BABi Ahok Tuh Yg Mirip SERBET Lantai.....\n",
              "709      HS  Betul bang hancurkan merka bang, musnahkan chi...\n",
              "710      HS  Sapa Yg bilang Ahok anti korupsi!?, klo grombo...\n",
              "711      HS  Gw juga ngimpi SENTILIN BIJI BABI AHOK, pcetar...\n",
              "712      HS  Mudah2an gw ketemu sama SI BABI IWAN BOPENG DI...\n",
              "\n",
              "[713 rows x 2 columns]"
            ]
          },
          "metadata": {
            "tags": []
          },
          "execution_count": 134
        }
      ]
    },
    {
      "cell_type": "code",
      "metadata": {
        "colab": {
          "base_uri": "https://localhost:8080/"
        },
        "id": "cVbdGDGKAKlg",
        "outputId": "207d2633-dcf8-4386-fd9b-90e64a6bbe2f"
      },
      "source": [
        "df.isnull().values.any()"
      ],
      "execution_count": 135,
      "outputs": [
        {
          "output_type": "execute_result",
          "data": {
            "text/plain": [
              "False"
            ]
          },
          "metadata": {
            "tags": []
          },
          "execution_count": 135
        }
      ]
    },
    {
      "cell_type": "code",
      "metadata": {
        "colab": {
          "base_uri": "https://localhost:8080/"
        },
        "id": "kUY_Hqr3AmX9",
        "outputId": "aee038e1-46c6-4665-f672-76d535203a9b"
      },
      "source": [
        "df.Label.value_counts()"
      ],
      "execution_count": 136,
      "outputs": [
        {
          "output_type": "execute_result",
          "data": {
            "text/plain": [
              "Non_HS    453\n",
              "HS        260\n",
              "Name: Label, dtype: int64"
            ]
          },
          "metadata": {
            "tags": []
          },
          "execution_count": 136
        }
      ]
    },
    {
      "cell_type": "code",
      "metadata": {
        "colab": {
          "base_uri": "https://localhost:8080/",
          "height": 0
        },
        "id": "CYsWyk-hpCwA",
        "outputId": "82104e61-2645-44dc-87e8-a0ca57b8103a"
      },
      "source": [
        "labels = ['Non_HS', 'HS']\n",
        "size = df['Label'].value_counts()\n",
        "colors = ['pink', 'lightblue']\n",
        "explode = [0, 0.1]\n",
        "\n",
        "plt.rcParams['figure.figsize'] = (9, 9)\n",
        "plt.pie(size, colors = colors, explode = explode, labels = labels, shadow = True, autopct = '%.2f%%')\n",
        "plt.title('Label', fontsize = 20)\n",
        "plt.axis('off')\n",
        "plt.legend()\n",
        "plt.show()"
      ],
      "execution_count": 137,
      "outputs": [
        {
          "output_type": "display_data",
          "data": {
            "image/png": "[encoded data removed]",
            "text/plain": [
              "<Figure size 648x648 with 1 Axes>"
            ]
          },
          "metadata": {
            "tags": []
          }
        }
      ]
    },
    {
      "cell_type": "code",
      "metadata": {
        "colab": {
          "base_uri": "https://localhost:8080/",
          "height": 0
        },
        "id": "a8tB3Fmbtry0",
        "outputId": "09843b72-a67f-4436-f534-64cf92d36bf4"
      },
      "source": [
        "word = df.Tweet[df['Label']=='HS'].astype('string')\n",
        "stop_factory = StopWordRemoverFactory()\n",
        "more_stopword = ['lu', 'hahaha', 'debat', 'dgn', 'apa', 'dengan', 'jgn', 'dgn', 'gapunya', 'aja', 'ga', 'gak', 'tau', 'tukang', 'lo', 'kayak', 'kalau', 'memang', 'sangat', 'suka', 'kayak', 'semua', 'sih', 'jangan', 'banget', 'biar', 'mau', 'punya', 'si', 'Orang', 'klo', 'https', 'ngomong', 'gw', 'nya', 'emang', 'bukan', 'hari', 'bisanya', 'jadi', 'tuh', 'RT', 'yg', 'bela', 'kena', 'jelas', 'paling', 'dong', 'kalo', 'sama', 'CO', 'pilih']\n",
        "stop = stop_factory.get_stop_words()+more_stopword\n",
        "wordcloud = WordCloud(width=400, height=200, max_font_size=75, max_words=75, background_color=\"white\", stopwords=stop, ).generate_from_text(' '.join(word))\n",
        "\n",
        "plt.imshow(wordcloud)\n",
        "plt.axis(\"off\")\n",
        "plt.show()"
      ],
      "execution_count": 138,
      "outputs": [
        {
          "output_type": "display_data",
          "data": {
            "image/png": "[encoded data removed]",
            "text/plain": [
              "<Figure size 648x648 with 1 Axes>"
            ]
          },
          "metadata": {
            "tags": [],
            "needs_background": "light"
          }
        }
      ]
    },
    {
      "cell_type": "markdown",
      "metadata": {
        "id": "tBMGZjGykqhF"
      },
      "source": [
        "## **Preprocessing**\n",
        "1. Menyeimbangkan label (Jumlah tweet HS = Jumlah tweet Non_HS)\n",
        "2. Data Cleaning, Stemming & Stopwords removal\n",
        "3. Vektorisasi"
      ]
    },
    {
      "cell_type": "markdown",
      "metadata": {
        "id": "P1lzm_Z_lSmt"
      },
      "source": [
        "### **Menyeimbangkan label**"
      ]
    },
    {
      "cell_type": "code",
      "metadata": {
        "id": "_GYPiKzPaCnB"
      },
      "source": [
        "df_NonHS = df.loc[df['Label'] == 'Non_HS']\n",
        "df_NonHS = df_NonHS.head(259)\n",
        "df_HS = df.loc[df['Label'] == 'HS']\n",
        "df_HS = df_HS.head(259)"
      ],
      "execution_count": 139,
      "outputs": []
    },
    {
      "cell_type": "code",
      "metadata": {
        "colab": {
          "base_uri": "https://localhost:8080/",
          "height": 411
        },
        "id": "jFDnPyUzaO0o",
        "outputId": "f7c688fc-6dc2-45c4-9bad-fabadda3380c"
      },
      "source": [
        "df_new = df_NonHS.append(df_HS, ignore_index=True)\n",
        "df_new"
      ],
      "execution_count": 140,
      "outputs": [
        {
          "output_type": "execute_result",
          "data": {
            "text/html": [
              "<div>\n",
              "<style scoped>\n",
              "    .dataframe tbody tr th:only-of-type {\n",
              "        vertical-align: middle;\n",
              "    }\n",
              "\n",
              "    .dataframe tbody tr th {\n",
              "        vertical-align: top;\n",
              "    }\n",
              "\n",
              "    .dataframe thead th {\n",
              "        text-align: right;\n",
              "    }\n",
              "</style>\n",
              "<table border=\"1\" class=\"dataframe\">\n",
              "  <thead>\n",
              "    <tr style=\"text-align: right;\">\n",
              "      <th></th>\n",
              "      <th>Label</th>\n",
              "      <th>Tweet</th>\n",
              "    </tr>\n",
              "  </thead>\n",
              "  <tbody>\n",
              "    <tr>\n",
              "      <th>0</th>\n",
              "      <td>Non_HS</td>\n",
              "      <td>RT @spardaxyz: Fadli Zon Minta Mendagri Segera...</td>\n",
              "    </tr>\n",
              "    <tr>\n",
              "      <th>1</th>\n",
              "      <td>Non_HS</td>\n",
              "      <td>RT @baguscondromowo: Mereka terus melukai aksi...</td>\n",
              "    </tr>\n",
              "    <tr>\n",
              "      <th>2</th>\n",
              "      <td>Non_HS</td>\n",
              "      <td>Sylvi: bagaimana gurbernur melakukan kekerasan...</td>\n",
              "    </tr>\n",
              "    <tr>\n",
              "      <th>3</th>\n",
              "      <td>Non_HS</td>\n",
              "      <td>Ahmad Dhani Tak Puas Debat Pilkada, Masalah Ja...</td>\n",
              "    </tr>\n",
              "    <tr>\n",
              "      <th>4</th>\n",
              "      <td>Non_HS</td>\n",
              "      <td>RT @lisdaulay28: Waspada KTP palsu.....kawal P...</td>\n",
              "    </tr>\n",
              "    <tr>\n",
              "      <th>...</th>\n",
              "      <td>...</td>\n",
              "      <td>...</td>\n",
              "    </tr>\n",
              "    <tr>\n",
              "      <th>513</th>\n",
              "      <td>HS</td>\n",
              "      <td>Gimana dgn Sumber waras.. Trans Jakarta ko jok...</td>\n",
              "    </tr>\n",
              "    <tr>\n",
              "      <th>514</th>\n",
              "      <td>HS</td>\n",
              "      <td>Muka Si BABi Ahok Tuh Yg Mirip SERBET Lantai.....</td>\n",
              "    </tr>\n",
              "    <tr>\n",
              "      <th>515</th>\n",
              "      <td>HS</td>\n",
              "      <td>Betul bang hancurkan merka bang, musnahkan chi...</td>\n",
              "    </tr>\n",
              "    <tr>\n",
              "      <th>516</th>\n",
              "      <td>HS</td>\n",
              "      <td>Sapa Yg bilang Ahok anti korupsi!?, klo grombo...</td>\n",
              "    </tr>\n",
              "    <tr>\n",
              "      <th>517</th>\n",
              "      <td>HS</td>\n",
              "      <td>Gw juga ngimpi SENTILIN BIJI BABI AHOK, pcetar...</td>\n",
              "    </tr>\n",
              "  </tbody>\n",
              "</table>\n",
              "<p>518 rows × 2 columns</p>\n",
              "</div>"
            ],
            "text/plain": [
              "      Label                                              Tweet\n",
              "0    Non_HS  RT @spardaxyz: Fadli Zon Minta Mendagri Segera...\n",
              "1    Non_HS  RT @baguscondromowo: Mereka terus melukai aksi...\n",
              "2    Non_HS  Sylvi: bagaimana gurbernur melakukan kekerasan...\n",
              "3    Non_HS  Ahmad Dhani Tak Puas Debat Pilkada, Masalah Ja...\n",
              "4    Non_HS  RT @lisdaulay28: Waspada KTP palsu.....kawal P...\n",
              "..      ...                                                ...\n",
              "513      HS  Gimana dgn Sumber waras.. Trans Jakarta ko jok...\n",
              "514      HS  Muka Si BABi Ahok Tuh Yg Mirip SERBET Lantai.....\n",
              "515      HS  Betul bang hancurkan merka bang, musnahkan chi...\n",
              "516      HS  Sapa Yg bilang Ahok anti korupsi!?, klo grombo...\n",
              "517      HS  Gw juga ngimpi SENTILIN BIJI BABI AHOK, pcetar...\n",
              "\n",
              "[518 rows x 2 columns]"
            ]
          },
          "metadata": {
            "tags": []
          },
          "execution_count": 140
        }
      ]
    },
    {
      "cell_type": "markdown",
      "metadata": {
        "id": "wrkmumH0li1Y"
      },
      "source": [
        "### **Data Cleaning, Stemming & Stopwords removal**"
      ]
    },
    {
      "cell_type": "code",
      "metadata": {
        "id": "8uB66m11DxeU"
      },
      "source": [
        "def preprocessing(a,b):\n",
        "    data_fix = []\n",
        "    from nltk.corpus import stopwords\n",
        "    for i in range(len(b)):\n",
        "        text = re.sub('[^a-zA-Z]', ' ', a[i])\n",
        "        # Remove mentions\n",
        "        text = re.sub(r'@[A-Za-z0-9_]+', '', a[i])\n",
        "        # Remove hashtags\n",
        "        text = re.sub(r'#', '', a[i])\n",
        "        # Remove retweets:\n",
        "        text = re.sub(r'RT : ', '', a[i])\n",
        "        # Remove urls\n",
        "        text = re.sub(r'https?:\\/\\/[A-Za-z0-9\\.\\/]+', '', a[i])\n",
        "        #Case Folding\n",
        "        text = text.lower()\n",
        "        #Tokinize\n",
        "        text = text.split()\n",
        "        #Stopword + Stemming\n",
        "        stemmer = StemmerFactory().create_stemmer()        \n",
        "        text = [stemmer.stem(word) for word in text if not word in set(stopwords.words('indonesian'))]\n",
        "        text = [word for word in text if len (word) > 3]\n",
        "        text = ' '.join(text)\n",
        "        data_fix.append(text)\n",
        "    return data_fix"
      ],
      "execution_count": 141,
      "outputs": []
    },
    {
      "cell_type": "code",
      "metadata": {
        "id": "C_04-ImBZ1aX"
      },
      "source": [
        "length = df_new['Label'].tolist()\n",
        "df_cleaned = preprocessing(df_fix['Tweet'],length)"
      ],
      "execution_count": 142,
      "outputs": []
    },
    {
      "cell_type": "code",
      "metadata": {
        "colab": {
          "base_uri": "https://localhost:8080/",
          "height": 0
        },
        "id": "Sk3RWerLcl7W",
        "outputId": "e60f3f94-afb9-41a4-fad7-56a1952ca51f"
      },
      "source": [
        "# menampilkan dataset dengan tweet yang telah di-cleaning\n",
        "df_new['Cleaned'] = pd.Series(df_cleaned).values\n",
        "df_new"
      ],
      "execution_count": 143,
      "outputs": [
        {
          "output_type": "execute_result",
          "data": {
            "text/html": [
              "<div>\n",
              "<style scoped>\n",
              "    .dataframe tbody tr th:only-of-type {\n",
              "        vertical-align: middle;\n",
              "    }\n",
              "\n",
              "    .dataframe tbody tr th {\n",
              "        vertical-align: top;\n",
              "    }\n",
              "\n",
              "    .dataframe thead th {\n",
              "        text-align: right;\n",
              "    }\n",
              "</style>\n",
              "<table border=\"1\" class=\"dataframe\">\n",
              "  <thead>\n",
              "    <tr style=\"text-align: right;\">\n",
              "      <th></th>\n",
              "      <th>Label</th>\n",
              "      <th>Tweet</th>\n",
              "      <th>Cleaned</th>\n",
              "    </tr>\n",
              "  </thead>\n",
              "  <tbody>\n",
              "    <tr>\n",
              "      <th>0</th>\n",
              "      <td>Non_HS</td>\n",
              "      <td>RT @spardaxyz: Fadli Zon Minta Mendagri Segera...</td>\n",
              "      <td>spardaxyz fadli mendagri nonaktif ahok gubernu...</td>\n",
              "    </tr>\n",
              "    <tr>\n",
              "      <th>1</th>\n",
              "      <td>Non_HS</td>\n",
              "      <td>RT @baguscondromowo: Mereka terus melukai aksi...</td>\n",
              "      <td>baguscondromowo luka aksi rangka penjara ahok ...</td>\n",
              "    </tr>\n",
              "    <tr>\n",
              "      <th>2</th>\n",
              "      <td>Non_HS</td>\n",
              "      <td>Sylvi: bagaimana gurbernur melakukan kekerasan...</td>\n",
              "      <td>sylvi gurbernur keras perempuan bukti ibu2 fot...</td>\n",
              "    </tr>\n",
              "    <tr>\n",
              "      <th>3</th>\n",
              "      <td>Non_HS</td>\n",
              "      <td>Ahmad Dhani Tak Puas Debat Pilkada, Masalah Ja...</td>\n",
              "      <td>ahmad dhani puas debat pilkada jalan bekas ung...</td>\n",
              "    </tr>\n",
              "    <tr>\n",
              "      <th>4</th>\n",
              "      <td>Non_HS</td>\n",
              "      <td>RT @lisdaulay28: Waspada KTP palsu.....kawal P...</td>\n",
              "      <td>lisdaulay28 waspada palsu kawal pilkada https ...</td>\n",
              "    </tr>\n",
              "    <tr>\n",
              "      <th>...</th>\n",
              "      <td>...</td>\n",
              "      <td>...</td>\n",
              "      <td>...</td>\n",
              "    </tr>\n",
              "    <tr>\n",
              "      <th>513</th>\n",
              "      <td>HS</td>\n",
              "      <td>Gimana dgn Sumber waras.. Trans Jakarta ko jok...</td>\n",
              "      <td>gimana sumber waras trans jakarta jokowi diem ...</td>\n",
              "    </tr>\n",
              "    <tr>\n",
              "      <th>514</th>\n",
              "      <td>HS</td>\n",
              "      <td>Muka Si BABi Ahok Tuh Yg Mirip SERBET Lantai.....</td>\n",
              "      <td>muka babi ahok serbet lantai basuki btp</td>\n",
              "    </tr>\n",
              "    <tr>\n",
              "      <th>515</th>\n",
              "      <td>HS</td>\n",
              "      <td>Betul bang hancurkan merka bang, musnahkan chi...</td>\n",
              "      <td>bang hancur merka bang musnah china babi bumi ...</td>\n",
              "    </tr>\n",
              "    <tr>\n",
              "      <th>516</th>\n",
              "      <td>HS</td>\n",
              "      <td>Sapa Yg bilang Ahok anti korupsi!?, klo grombo...</td>\n",
              "      <td>sapa bilang ahok anti korupsi grombolannya ngo...</td>\n",
              "    </tr>\n",
              "    <tr>\n",
              "      <th>517</th>\n",
              "      <td>HS</td>\n",
              "      <td>Gw juga ngimpi SENTILIN BIJI BABI AHOK, pcetar...</td>\n",
              "      <td>ngimpi sentilin biji babi ahok pcetar pcetar l...</td>\n",
              "    </tr>\n",
              "  </tbody>\n",
              "</table>\n",
              "<p>518 rows × 3 columns</p>\n",
              "</div>"
            ],
            "text/plain": [
              "      Label  ...                                            Cleaned\n",
              "0    Non_HS  ...  spardaxyz fadli mendagri nonaktif ahok gubernu...\n",
              "1    Non_HS  ...  baguscondromowo luka aksi rangka penjara ahok ...\n",
              "2    Non_HS  ...  sylvi gurbernur keras perempuan bukti ibu2 fot...\n",
              "3    Non_HS  ...  ahmad dhani puas debat pilkada jalan bekas ung...\n",
              "4    Non_HS  ...  lisdaulay28 waspada palsu kawal pilkada https ...\n",
              "..      ...  ...                                                ...\n",
              "513      HS  ...  gimana sumber waras trans jakarta jokowi diem ...\n",
              "514      HS  ...            muka babi ahok serbet lantai basuki btp\n",
              "515      HS  ...  bang hancur merka bang musnah china babi bumi ...\n",
              "516      HS  ...  sapa bilang ahok anti korupsi grombolannya ngo...\n",
              "517      HS  ...  ngimpi sentilin biji babi ahok pcetar pcetar l...\n",
              "\n",
              "[518 rows x 3 columns]"
            ]
          },
          "metadata": {
            "tags": []
          },
          "execution_count": 143
        }
      ]
    },
    {
      "cell_type": "markdown",
      "metadata": {
        "id": "0MLrelyIlz9r"
      },
      "source": [
        "### **Vektorisasi**"
      ]
    },
    {
      "cell_type": "code",
      "metadata": {
        "colab": {
          "base_uri": "https://localhost:8080/"
        },
        "id": "geuUEY-5c05w",
        "outputId": "5e282bc5-655d-47da-b1b4-e6ccda5c60bb"
      },
      "source": [
        "tfidf_V = TfidfVectorizer()\n",
        "X = df_new['Cleaned']\n",
        "X_vector = tfidf_V.fit_transform(X)\n",
        "X_vector.shape"
      ],
      "execution_count": 144,
      "outputs": [
        {
          "output_type": "execute_result",
          "data": {
            "text/plain": [
              "(518, 1922)"
            ]
          },
          "metadata": {
            "tags": []
          },
          "execution_count": 144
        }
      ]
    },
    {
      "cell_type": "code",
      "metadata": {
        "id": "v83xhUmjfHqN"
      },
      "source": [
        "le = LabelEncoder()\n",
        "y = le.fit_transform(df_new['Label'])"
      ],
      "execution_count": 145,
      "outputs": []
    },
    {
      "cell_type": "code",
      "metadata": {
        "id": "dNxk7Z4CfU8Y"
      },
      "source": [
        "X_train, X_test, y_train, y_test = train_test_split(X_vector, y, test_size=0.3, random_state=0)"
      ],
      "execution_count": 148,
      "outputs": []
    },
    {
      "cell_type": "markdown",
      "metadata": {
        "id": "bWG_hzQRmJH6"
      },
      "source": [
        "## **Klasifikasi**\n",
        "menggunakan 3 jenis model:\n",
        "  1. Random Forest\n",
        "  2. Gradient Boosting\n",
        "  3. Neural Network (Multilayer Perceptron)"
      ]
    },
    {
      "cell_type": "markdown",
      "metadata": {
        "id": "P63mAHyQmtFu"
      },
      "source": [
        "### **Random Forest**"
      ]
    },
    {
      "cell_type": "markdown",
      "metadata": {
        "id": "sQQQBdjpnBpM"
      },
      "source": [
        "#### **Pemodelan**"
      ]
    },
    {
      "cell_type": "code",
      "metadata": {
        "id": "qh42GFmSgnAl"
      },
      "source": [
        "# pemodelan\n",
        "rfc= RandomForestClassifier()\n",
        "rfc.fit(X_train, y_train)\n",
        "\n",
        "# data testing\n",
        "y_pred_rfc = rfc.predict(X_test)"
      ],
      "execution_count": 155,
      "outputs": []
    },
    {
      "cell_type": "markdown",
      "metadata": {
        "id": "RuQz0ragnEUt"
      },
      "source": [
        "#### **Evaluasi Model**"
      ]
    },
    {
      "cell_type": "code",
      "metadata": {
        "colab": {
          "base_uri": "https://localhost:8080/"
        },
        "id": "gVzz-Gy4hCvI",
        "outputId": "b3bf7456-dd83-45c4-ca24-fd4914bfa8b9"
      },
      "source": [
        "# confusion matrix\n",
        "cm_rfc = metrics.confusion_matrix(y_test, y_pred_rfc)\n",
        "cm_rfc"
      ],
      "execution_count": 157,
      "outputs": [
        {
          "output_type": "execute_result",
          "data": {
            "text/plain": [
              "array([[45, 29],\n",
              "       [10, 72]])"
            ]
          },
          "metadata": {
            "tags": []
          },
          "execution_count": 157
        }
      ]
    },
    {
      "cell_type": "code",
      "metadata": {
        "colab": {
          "base_uri": "https://localhost:8080/"
        },
        "id": "rs-Wk1vghnEI",
        "outputId": "46d37b39-d4e0-4c17-f337-8ec4a1ce57a6"
      },
      "source": [
        "# akurasi model\n",
        "acc_rfc = metrics.accuracy_score(y_test, y_pred_rfc)\n",
        "print('Accuracy:', acc_rfc)"
      ],
      "execution_count": 156,
      "outputs": [
        {
          "output_type": "stream",
          "text": [
            "Accuracy: 0.75\n"
          ],
          "name": "stdout"
        }
      ]
    },
    {
      "cell_type": "markdown",
      "metadata": {
        "id": "o_zHNK-0nLKV"
      },
      "source": [
        "### **Gradient Boosting**"
      ]
    },
    {
      "cell_type": "markdown",
      "metadata": {
        "id": "uUUwp0REnOWF"
      },
      "source": [
        "#### **Pemodelan**"
      ]
    },
    {
      "cell_type": "code",
      "metadata": {
        "id": "97AudxF7h89L"
      },
      "source": [
        "# modeling\n",
        "gbc = GradientBoostingClassifier()\n",
        "gbc.fit(X_train, y_train)\n",
        "\n",
        "# predict to test data\n",
        "y_pred_gbc = gbc.predict(X_test)"
      ],
      "execution_count": 158,
      "outputs": []
    },
    {
      "cell_type": "markdown",
      "metadata": {
        "id": "8rVFKlKqnQ3U"
      },
      "source": [
        "#### **Evaluasi Model**"
      ]
    },
    {
      "cell_type": "code",
      "metadata": {
        "colab": {
          "base_uri": "https://localhost:8080/"
        },
        "id": "xOtqtwtCikIq",
        "outputId": "6df87a01-c0bc-4838-c5da-c6d032b72b7a"
      },
      "source": [
        "cm_gbc = metrics.confusion_matrix(y_test, y_pred_gbc)\n",
        "cm_gbc"
      ],
      "execution_count": 159,
      "outputs": [
        {
          "output_type": "execute_result",
          "data": {
            "text/plain": [
              "array([[48, 26],\n",
              "       [ 8, 74]])"
            ]
          },
          "metadata": {
            "tags": []
          },
          "execution_count": 159
        }
      ]
    },
    {
      "cell_type": "code",
      "metadata": {
        "colab": {
          "base_uri": "https://localhost:8080/"
        },
        "id": "JFLAKncyiWoP",
        "outputId": "e2004858-14f3-4d48-86cc-a56d1ccd39af"
      },
      "source": [
        "acc_gbc = metrics.accuracy_score(y_test, y_pred_gbc)\n",
        "print('Accuracy:', acc_gbc)"
      ],
      "execution_count": 160,
      "outputs": [
        {
          "output_type": "stream",
          "text": [
            "Accuracy: 0.782051282051282\n"
          ],
          "name": "stdout"
        }
      ]
    },
    {
      "cell_type": "markdown",
      "metadata": {
        "id": "keeBihTUnVu7"
      },
      "source": [
        "### **Neural Network**"
      ]
    },
    {
      "cell_type": "markdown",
      "metadata": {
        "id": "eddp_FlznYvs"
      },
      "source": [
        "#### **Pemodelan**"
      ]
    },
    {
      "cell_type": "code",
      "metadata": {
        "id": "Z62VVhf0i8N6"
      },
      "source": [
        "# modeling\n",
        "mlp = MLPClassifier()\n",
        "mlp.fit(X_train, y_train)\n",
        "\n",
        "# predict to test data\n",
        "y_pred_mlp = mlp.predict(X_test)"
      ],
      "execution_count": 161,
      "outputs": []
    },
    {
      "cell_type": "markdown",
      "metadata": {
        "id": "Z2rkGWpSndxi"
      },
      "source": [
        "#### **Evaluasi Model**"
      ]
    },
    {
      "cell_type": "code",
      "metadata": {
        "colab": {
          "base_uri": "https://localhost:8080/"
        },
        "id": "n_LafaV_jO4N",
        "outputId": "a213b222-0ec8-4243-8651-ad1f0bc02692"
      },
      "source": [
        "cm_mlp = metrics.confusion_matrix(y_test, y_pred_mlp)\n",
        "cm_mlp"
      ],
      "execution_count": 162,
      "outputs": [
        {
          "output_type": "execute_result",
          "data": {
            "text/plain": [
              "array([[53, 21],\n",
              "       [15, 67]])"
            ]
          },
          "metadata": {
            "tags": []
          },
          "execution_count": 162
        }
      ]
    },
    {
      "cell_type": "code",
      "metadata": {
        "colab": {
          "base_uri": "https://localhost:8080/"
        },
        "id": "Nd-e9q0djaiY",
        "outputId": "62765986-7cc7-402d-9646-f38715ea51b8"
      },
      "source": [
        "acc_mlp = metrics.accuracy_score(y_test, y_pred_mlp)\n",
        "print('Accuracy:', acc_mlp)"
      ],
      "execution_count": 163,
      "outputs": [
        {
          "output_type": "stream",
          "text": [
            "Accuracy: 0.7692307692307693\n"
          ],
          "name": "stdout"
        }
      ]
    },
    {
      "cell_type": "markdown",
      "metadata": {
        "id": "-ZKkOJOtnlec"
      },
      "source": [
        "## **Kesimpulan**\n",
        "Model dengan akurasi tertinggi adalah Gradient Boosting dengan akurasi 78%"
      ]
    },
    {
      "cell_type": "code",
      "metadata": {
        "colab": {
          "base_uri": "https://localhost:8080/"
        },
        "id": "S8vrdHuBn1--",
        "outputId": "79c4f5a7-c674-4f46-f4c4-4f44e8fa12b4"
      },
      "source": [
        "print('Random Forest Accuracy:', acc_rfc)\n",
        "print('Gradient Boosting Accuracy:', acc_gbc)\n",
        "print('Neural Network Accuracy:', acc_mlp)"
      ],
      "execution_count": 165,
      "outputs": [
        {
          "output_type": "stream",
          "text": [
            "Random Forest Accuracy: 0.75\n",
            "Gradient Boosting Accuracy: 0.782051282051282\n",
            "Neural Network Accuracy: 0.7692307692307693\n"
          ],
          "name": "stdout"
        }
      ]
    },
    {
      "cell_type": "markdown",
      "metadata": {
        "id": "0MsoIlJc4mEk"
      },
      "source": [
        "# **Referensi**\n",
        "1. https://github.com/ialfina/id-hatespeech-detection\n",
        "2. https://github.com/tigasadrian/tugas_DTI/blob/master/clustering.ipynb\n",
        "3. https://github.com/tigasadrian/tugas_DTI/blob/master/classification.ipynb"
      ]
    }
  ]
}